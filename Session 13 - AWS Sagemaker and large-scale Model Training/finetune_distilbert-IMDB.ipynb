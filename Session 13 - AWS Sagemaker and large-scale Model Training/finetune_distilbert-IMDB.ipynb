{
 "cells": [
  {
   "cell_type": "markdown",
   "metadata": {
    "id": "yoTXcpsX4LUK"
   },
   "source": [
    "# Hugging Face and Sagemaker: fine-tuning DistilBERT with Amazon Polarity dataset"
   ]
  },
  {
   "cell_type": "markdown",
   "metadata": {
    "id": "EXAY__jY4LUS"
   },
   "source": [
    "## Introduction\n",
    "\n",
    "In this demo, you will use the Hugging Faces `transformers` and `datasets` library with Amazon SageMaker to fine-tune a pre-trained transformer on binary text classification. In particular, you will use the pre-trained DistilBERT model with the Amazon Reviews Polarity dataset.\n",
    "You will then deploy the resulting model for inference using SageMaker Endpoint.\n",
    "\n",
    "### The model\n",
    "\n",
    "You'll be using an offshoot of [BERT](https://arxiv.org/abs/1810.04805) called [DistilBERT](https://arxiv.org/abs/1910.01108) that is smaller, and so faster and cheaper for both training and inference. A pre-trained model is available in the [`transformers`](https://huggingface.co/transformers/) library from [Hugging Face](https://huggingface.co/).\n",
    "\n",
    "### The data\n",
    "\n",
    "The [Amazon Reviews Polarity dataset](https://github.com/dsk78/Text-Classification---Amazon-Reviews-Polarity) consists of reviews from Amazon. The data span a period of 18 years, including ~35 million reviews up to March 2013. Reviews include product and user information, ratings, and a plaintext review. It's avalaible under the [`amazon_polarity`](https://huggingface.co/datasets/amazon_polarity) dataset on [Hugging Face](https://huggingface.co/)."
   ]
  },
  {
   "cell_type": "markdown",
   "metadata": {
    "id": "pov2QH-z4LUT"
   },
   "source": [
    "## Setup\n",
    "_This notebook was tested in Amazon SageMaker Studio on a **ml.m5.large** instance with **Python 3 (Data Science)** kernel._\n",
    "\n",
    "### Dependecies\n",
    "First, you need to install the dependecies required."
   ]
  },
  {
   "cell_type": "code",
   "execution_count": 1,
   "metadata": {},
   "outputs": [],
   "source": []
  },
  {
   "cell_type": "code",
   "execution_count": 2,
   "metadata": {},
   "outputs": [],
   "source": [
    "!pip install -qq sagemaker-huggingface-inference-toolkit "
   ]
  },
  {
   "cell_type": "code",
   "execution_count": 3,
   "metadata": {},
   "outputs": [],
   "source": [
    "\n",
    "!pip install -qq transformers==4.6.1 \"datasets[s3]\""
   ]
  },
  {
   "cell_type": "code",
   "execution_count": 1,
   "metadata": {
    "id": "GKIOKRP_4LUU"
   },
   "outputs": [],
   "source": [
    "!pip install -qq \"sagemaker==2.48.0\" --upgrade\n",
    "!pip install -qq torch==1.7.1 --upgrade\n",
    "!pip install -qq sagemaker-huggingface-inference-toolkit \n",
    "!pip install -qq transformers==4.6.1 \"datasets[s3]\"\n",
    "!pip install -qq ipywidgets\n",
    "!pip install -qq watermark \n",
    "!pip install -qq \"seaborn>=0.11.0\""
   ]
  },
  {
   "cell_type": "markdown",
   "metadata": {
    "id": "n9pFrYDG4LUX"
   },
   "source": [
    "If you are running this on a SageMaker environment, make sure to reboot the Kernel via the dropdown menu at the top after you've installed the above dependencies."
   ]
  },
  {
   "cell_type": "markdown",
   "metadata": {
    "id": "OUWcx1894LUZ"
   },
   "source": [
    "### Development environment "
   ]
  },
  {
   "cell_type": "code",
   "execution_count": 2,
   "metadata": {
    "id": "vZ3savXl4LUa"
   },
   "outputs": [],
   "source": [
    "%matplotlib inline\n",
    "%config InlineBackend.figure_format='retina'"
   ]
  },
  {
   "cell_type": "code",
   "execution_count": 3,
   "metadata": {
    "id": "K9Qm3cj44LUb"
   },
   "outputs": [],
   "source": [
    "import sagemaker\n",
    "from sagemaker.pytorch import PyTorch\n",
    "from sagemaker.debugger import ProfilerConfig, DebuggerHookConfig, Rule, ProfilerRule, rule_configs\n",
    "import sagemaker.huggingface\n",
    "from sagemaker.huggingface import HuggingFace\n",
    "import transformers\n",
    "from transformers import AutoTokenizer\n",
    "from datasets import load_dataset\n",
    "\n",
    "\n",
    "import numpy as np\n",
    "import pandas as pd\n",
    "import seaborn as sns\n",
    "from pylab import rcParams\n",
    "import matplotlib.pyplot as plt\n",
    "from matplotlib import rc\n",
    "from textwrap import wrap\n",
    "\n",
    "import boto3\n",
    "import pprint\n",
    "import time"
   ]
  },
  {
   "cell_type": "code",
   "execution_count": 8,
   "metadata": {},
   "outputs": [
    {
     "name": "stdout",
     "output_type": "stream",
     "text": [
      "Help on class HuggingFace in module sagemaker.huggingface.estimator:\n",
      "\n",
      "class HuggingFace(sagemaker.estimator.Framework)\n",
      " |  Handle training of custom HuggingFace code.\n",
      " |  \n",
      " |  Method resolution order:\n",
      " |      HuggingFace\n",
      " |      sagemaker.estimator.Framework\n",
      " |      sagemaker.estimator.EstimatorBase\n",
      " |      builtins.object\n",
      " |  \n",
      " |  Methods defined here:\n",
      " |  \n",
      " |  __init__(self, py_version, entry_point, transformers_version=None, tensorflow_version=None, pytorch_version=None, source_dir=None, hyperparameters=None, image_uri=None, distribution=None, compiler_config=None, **kwargs)\n",
      " |      This ``Estimator`` executes a HuggingFace script in a managed execution environment.\n",
      " |      \n",
      " |      The managed HuggingFace environment is an Amazon-built Docker container that executes\n",
      " |      functions defined in the supplied ``entry_point`` Python script within a SageMaker\n",
      " |      Training Job.\n",
      " |      \n",
      " |      Training is started by calling\n",
      " |      :meth:`~sagemaker.amazon.estimator.Framework.fit` on this Estimator.\n",
      " |      \n",
      " |      Args:\n",
      " |          py_version (str): Python version you want to use for executing your model training\n",
      " |              code. Defaults to ``None``. Required unless ``image_uri`` is provided.  If\n",
      " |              using PyTorch, the current supported version is ``py36``. If using TensorFlow,\n",
      " |              the current supported version is ``py37``.\n",
      " |          entry_point (str): Path (absolute or relative) to the Python source\n",
      " |              file which should be executed as the entry point to training.\n",
      " |              If ``source_dir`` is specified, then ``entry_point``\n",
      " |              must point to a file located at the root of ``source_dir``.\n",
      " |          transformers_version (str): Transformers version you want to use for\n",
      " |              executing your model training code. Defaults to ``None``. Required unless\n",
      " |              ``image_uri`` is provided. The current supported version is ``4.6.1``.\n",
      " |          tensorflow_version (str): TensorFlow version you want to use for\n",
      " |              executing your model training code. Defaults to ``None``. Required unless\n",
      " |              ``pytorch_version`` is provided. The current supported version is ``2.4.1``.\n",
      " |          pytorch_version (str): PyTorch version you want to use for\n",
      " |              executing your model training code. Defaults to ``None``. Required unless\n",
      " |              ``tensorflow_version`` is provided. The current supported versions are ``1.7.1`` and ``1.6.0``.\n",
      " |          source_dir (str): Path (absolute, relative or an S3 URI) to a directory\n",
      " |              with any other training source code dependencies aside from the entry\n",
      " |              point file (default: None). If ``source_dir`` is an S3 URI, it must\n",
      " |              point to a tar.gz file. Structure within this directory are preserved\n",
      " |              when training on Amazon SageMaker.\n",
      " |          hyperparameters (dict): Hyperparameters that will be used for\n",
      " |              training (default: None). The hyperparameters are made\n",
      " |              accessible as a dict[str, str] to the training code on\n",
      " |              SageMaker. For convenience, this accepts other types for keys\n",
      " |              and values, but ``str()`` will be called to convert them before\n",
      " |              training.\n",
      " |          image_uri (str): If specified, the estimator will use this image\n",
      " |              for training and hosting, instead of selecting the appropriate\n",
      " |              SageMaker official image based on framework_version and\n",
      " |              py_version. It can be an ECR url or dockerhub image and tag.\n",
      " |              Examples:\n",
      " |                  * ``123412341234.dkr.ecr.us-west-2.amazonaws.com/my-custom-image:1.0``\n",
      " |                  * ``custom-image:latest``\n",
      " |      \n",
      " |              If ``framework_version`` or ``py_version`` are ``None``, then\n",
      " |              ``image_uri`` is required. If also ``None``, then a ``ValueError``\n",
      " |              will be raised.\n",
      " |          distribution (dict): A dictionary with information on how to run distributed training\n",
      " |              (default: None).  Currently, the following are supported:\n",
      " |              distributed training with parameter servers, SageMaker Distributed (SMD) Data\n",
      " |              and Model Parallelism, and MPI. SMD Model Parallelism can only be used with MPI.\n",
      " |              To enable parameter server use the following setup:\n",
      " |      \n",
      " |              .. code:: python\n",
      " |      \n",
      " |                  {\n",
      " |                      \"parameter_server\": {\n",
      " |                          \"enabled\": True\n",
      " |                      }\n",
      " |                  }\n",
      " |      \n",
      " |              To enable MPI:\n",
      " |      \n",
      " |              .. code:: python\n",
      " |      \n",
      " |                  {\n",
      " |                      \"mpi\": {\n",
      " |                          \"enabled\": True\n",
      " |                      }\n",
      " |                  }\n",
      " |      \n",
      " |              To enable SMDistributed Data Parallel or Model Parallel:\n",
      " |      \n",
      " |              .. code:: python\n",
      " |      \n",
      " |                  {\n",
      " |                      \"smdistributed\": {\n",
      " |                          \"dataparallel\": {\n",
      " |                              \"enabled\": True\n",
      " |                          },\n",
      " |                          \"modelparallel\": {\n",
      " |                              \"enabled\": True,\n",
      " |                              \"parameters\": {}\n",
      " |                          }\n",
      " |                      }\n",
      " |                  }\n",
      " |          compiler_config (:class:`~sagemaker.huggingface.TrainingCompilerConfig`):\n",
      " |              Configures SageMaker Training Compiler to accelerate training.\n",
      " |      \n",
      " |          **kwargs: Additional kwargs passed to the :class:`~sagemaker.estimator.Framework`\n",
      " |              constructor.\n",
      " |      \n",
      " |      .. tip::\n",
      " |      \n",
      " |          You can find additional parameters for initializing this class at\n",
      " |          :class:`~sagemaker.estimator.Framework` and\n",
      " |          :class:`~sagemaker.estimator.EstimatorBase`.\n",
      " |  \n",
      " |  create_model(self, model_server_workers=None, role=None, vpc_config_override='VPC_CONFIG_DEFAULT', entry_point=None, source_dir=None, dependencies=None, **kwargs)\n",
      " |      Create a SageMaker ``HuggingFaceModel`` object that can be deployed to an ``Endpoint``.\n",
      " |      \n",
      " |      Args:\n",
      " |          model_server_workers (int): Optional. The number of worker processes\n",
      " |              used by the inference server. If None, server will use one\n",
      " |              worker per vCPU.\n",
      " |          role (str): The ``ExecutionRoleArn`` IAM Role ARN for the ``Model``,\n",
      " |              which is also used during transform jobs. If not specified, the\n",
      " |              role from the Estimator will be used.\n",
      " |          vpc_config_override (dict[str, list[str]]): Optional override for VpcConfig set on\n",
      " |              the model. Default: use subnets and security groups from this Estimator.\n",
      " |              * 'Subnets' (list[str]): List of subnet ids.\n",
      " |              * 'SecurityGroupIds' (list[str]): List of security group ids.\n",
      " |          entry_point (str): Path (absolute or relative) to the local Python source file which\n",
      " |              should be executed as the entry point to training. If ``source_dir`` is specified,\n",
      " |              then ``entry_point`` must point to a file located at the root of ``source_dir``.\n",
      " |              Defaults to `None`.\n",
      " |          source_dir (str): Path (absolute or relative) to a directory with any other serving\n",
      " |              source code dependencies aside from the entry point file.\n",
      " |              If not specified, the model source directory from training is used.\n",
      " |          dependencies (list[str]): A list of paths to directories (absolute or relative) with\n",
      " |              any additional libraries that will be exported to the container.\n",
      " |              If not specified, the dependencies from training are used.\n",
      " |              This is not supported with \"local code\" in Local Mode.\n",
      " |          **kwargs: Additional kwargs passed to the :class:`~sagemaker.huggingface.model.HuggingFaceModel`\n",
      " |              constructor.\n",
      " |      Returns:\n",
      " |          sagemaker.huggingface.model.HuggingFaceModel: A SageMaker ``HuggingFaceModel``\n",
      " |          object. See :func:`~sagemaker.huggingface.model.HuggingFaceModel` for full details.\n",
      " |  \n",
      " |  hyperparameters(self)\n",
      " |      Return hyperparameters used by your custom PyTorch code during model training.\n",
      " |  \n",
      " |  ----------------------------------------------------------------------\n",
      " |  Data and other attributes defined here:\n",
      " |  \n",
      " |  __abstractmethods__ = frozenset()\n",
      " |  \n",
      " |  ----------------------------------------------------------------------\n",
      " |  Methods inherited from sagemaker.estimator.Framework:\n",
      " |  \n",
      " |  set_hyperparameters(self, **kwargs)\n",
      " |      Escapes the dict argument as JSON, updates the private hyperparameter attribute.\n",
      " |  \n",
      " |  training_image_uri(self, region=None)\n",
      " |      Return the Docker image to use for training.\n",
      " |      \n",
      " |      The :meth:`~sagemaker.estimator.EstimatorBase.fit` method, which does\n",
      " |      the model training, calls this method to find the image to use for model\n",
      " |      training.\n",
      " |      \n",
      " |      Args:\n",
      " |          region (str): Optional. The AWS Region to use for image URI. Default: AWS Region\n",
      " |          associated with the SageMaker session.\n",
      " |      \n",
      " |      Returns:\n",
      " |          str: The URI of the Docker image.\n",
      " |  \n",
      " |  transformer(self, instance_count, instance_type, strategy=None, assemble_with=None, output_path=None, output_kms_key=None, accept=None, env=None, max_concurrent_transforms=None, max_payload=None, tags=None, role=None, model_server_workers=None, volume_kms_key=None, entry_point=None, vpc_config_override='VPC_CONFIG_DEFAULT', enable_network_isolation=None, model_name=None)\n",
      " |      Return a ``Transformer`` that uses a SageMaker Model based on the training job.\n",
      " |      \n",
      " |      It reuses the SageMaker Session and base job name used by\n",
      " |      the Estimator.\n",
      " |      \n",
      " |      Args:\n",
      " |          instance_count (int): Number of EC2 instances to use.\n",
      " |          instance_type (str): Type of EC2 instance to use, for example,\n",
      " |              'ml.c4.xlarge'.\n",
      " |          strategy (str): The strategy used to decide how to batch records in\n",
      " |              a single request (default: None). Valid values: 'MultiRecord'\n",
      " |              and 'SingleRecord'.\n",
      " |          assemble_with (str): How the output is assembled (default: None).\n",
      " |              Valid values: 'Line' or 'None'.\n",
      " |          output_path (str): S3 location for saving the transform result. If\n",
      " |              not specified, results are stored to a default bucket.\n",
      " |          output_kms_key (str): Optional. KMS key ID for encrypting the\n",
      " |              transform output (default: None).\n",
      " |          accept (str): The accept header passed by the client to\n",
      " |              the inference endpoint. If it is supported by the endpoint,\n",
      " |              it will be the format of the batch transform output.\n",
      " |          env (dict): Environment variables to be set for use during the\n",
      " |              transform job (default: None).\n",
      " |          max_concurrent_transforms (int): The maximum number of HTTP requests\n",
      " |              to be made to each individual transform container at one time.\n",
      " |          max_payload (int): Maximum size of the payload in a single HTTP\n",
      " |              request to the container in MB.\n",
      " |          tags (list[dict]): List of tags for labeling a transform job. If\n",
      " |              none specified, then the tags used for the training job are used\n",
      " |              for the transform job.\n",
      " |          role (str): The ``ExecutionRoleArn`` IAM Role ARN for the ``Model``,\n",
      " |              which is also used during transform jobs. If not specified, the\n",
      " |              role from the Estimator will be used.\n",
      " |          model_server_workers (int): Optional. The number of worker processes\n",
      " |              used by the inference server. If None, server will use one\n",
      " |              worker per vCPU.\n",
      " |          volume_kms_key (str): Optional. KMS key ID for encrypting the volume\n",
      " |              attached to the ML compute instance (default: None).\n",
      " |          entry_point (str): Path (absolute or relative) to the local Python source file which\n",
      " |              should be executed as the entry point to training. If ``source_dir`` is specified,\n",
      " |              then ``entry_point`` must point to a file located at the root of ``source_dir``.\n",
      " |              If not specified, the training entry point is used.\n",
      " |          vpc_config_override (dict[str, list[str]]): Optional override for\n",
      " |              the VpcConfig set on the model.\n",
      " |              Default: use subnets and security groups from this Estimator.\n",
      " |      \n",
      " |              * 'Subnets' (list[str]): List of subnet ids.\n",
      " |              * 'SecurityGroupIds' (list[str]): List of security group ids.\n",
      " |      \n",
      " |          enable_network_isolation (bool): Specifies whether container will\n",
      " |              run in network isolation mode. Network isolation mode restricts\n",
      " |              the container access to outside networks (such as the internet).\n",
      " |              The container does not make any inbound or outbound network\n",
      " |              calls. If True, a channel named \"code\" will be created for any\n",
      " |              user entry script for inference. Also known as Internet-free mode.\n",
      " |              If not specified, this setting is taken from the estimator's\n",
      " |              current configuration.\n",
      " |          model_name (str): Name to use for creating an Amazon SageMaker\n",
      " |              model. If not specified, the estimator generates a default job name\n",
      " |              based on the training image name and current timestamp.\n",
      " |      \n",
      " |      Returns:\n",
      " |          sagemaker.transformer.Transformer: a ``Transformer`` object that can be used to start a\n",
      " |              SageMaker Batch Transform job.\n",
      " |  \n",
      " |  ----------------------------------------------------------------------\n",
      " |  Class methods inherited from sagemaker.estimator.Framework:\n",
      " |  \n",
      " |  attach(training_job_name, sagemaker_session=None, model_channel_name='model') from abc.ABCMeta\n",
      " |      Attach to an existing training job.\n",
      " |      \n",
      " |      Create an Estimator bound to an existing training job, each subclass\n",
      " |      is responsible to implement\n",
      " |      ``_prepare_init_params_from_job_description()`` as this method delegates\n",
      " |      the actual conversion of a training job description to the arguments\n",
      " |      that the class constructor expects. After attaching, if the training job\n",
      " |      has a Complete status, it can be ``deploy()`` ed to create a SageMaker\n",
      " |      Endpoint and return a ``Predictor``.\n",
      " |      \n",
      " |      If the training job is in progress, attach will block until the training job\n",
      " |      completes, but logs of the training job will not display. To see the logs\n",
      " |      content, please call ``logs()``\n",
      " |      \n",
      " |      Examples:\n",
      " |          >>> my_estimator.fit(wait=False)\n",
      " |          >>> training_job_name = my_estimator.latest_training_job.name\n",
      " |          Later on:\n",
      " |          >>> attached_estimator = Estimator.attach(training_job_name)\n",
      " |          >>> attached_estimator.logs()\n",
      " |          >>> attached_estimator.deploy()\n",
      " |      \n",
      " |      Args:\n",
      " |          training_job_name (str): The name of the training job to attach to.\n",
      " |          sagemaker_session (sagemaker.session.Session): Session object which\n",
      " |              manages interactions with Amazon SageMaker APIs and any other\n",
      " |              AWS services needed. If not specified, the estimator creates one\n",
      " |              using the default AWS configuration chain.\n",
      " |          model_channel_name (str): Name of the channel where pre-trained\n",
      " |              model data will be downloaded (default: 'model'). If no channel\n",
      " |              with the same name exists in the training job, this option will\n",
      " |              be ignored.\n",
      " |      \n",
      " |      Returns:\n",
      " |          Instance of the calling ``Estimator`` Class with the attached\n",
      " |          training job.\n",
      " |  \n",
      " |  ----------------------------------------------------------------------\n",
      " |  Methods inherited from sagemaker.estimator.EstimatorBase:\n",
      " |  \n",
      " |  compile_model(self, target_instance_family, input_shape, output_path, framework=None, framework_version=None, compile_max_run=900, tags=None, target_platform_os=None, target_platform_arch=None, target_platform_accelerator=None, compiler_options=None, **kwargs)\n",
      " |      Compile a Neo model using the input model.\n",
      " |      \n",
      " |      Args:\n",
      " |          target_instance_family (str): Identifies the device that you want to\n",
      " |              run your model after compilation, for example: ml_c5. For allowed\n",
      " |              strings see\n",
      " |              https://docs.aws.amazon.com/sagemaker/latest/dg/API_OutputConfig.html.\n",
      " |          input_shape (dict): Specifies the name and shape of the expected\n",
      " |              inputs for your trained model in json dictionary form, for\n",
      " |              example: {'data':[1,3,1024,1024]}, or {'var1': [1,1,28,28],\n",
      " |              'var2':[1,1,28,28]}\n",
      " |          output_path (str): Specifies where to store the compiled model\n",
      " |          framework (str): The framework that is used to train the original\n",
      " |              model. Allowed values: 'mxnet', 'tensorflow', 'keras', 'pytorch',\n",
      " |              'onnx', 'xgboost'\n",
      " |          framework_version (str): The version of the framework\n",
      " |          compile_max_run (int): Timeout in seconds for compilation (default:\n",
      " |              15 * 60). After this amount of time Amazon SageMaker Neo\n",
      " |              terminates the compilation job regardless of its current status.\n",
      " |          tags (list[dict]): List of tags for labeling a compilation job. For\n",
      " |              more, see\n",
      " |              https://docs.aws.amazon.com/sagemaker/latest/dg/API_Tag.html.\n",
      " |          target_platform_os (str): Target Platform OS, for example: 'LINUX'.\n",
      " |              For allowed strings see\n",
      " |              https://docs.aws.amazon.com/sagemaker/latest/dg/API_OutputConfig.html.\n",
      " |              It can be used instead of target_instance_family.\n",
      " |          target_platform_arch (str): Target Platform Architecture, for example: 'X86_64'.\n",
      " |              For allowed strings see\n",
      " |              https://docs.aws.amazon.com/sagemaker/latest/dg/API_OutputConfig.html.\n",
      " |              It can be used instead of target_instance_family.\n",
      " |          target_platform_accelerator (str, optional): Target Platform Accelerator,\n",
      " |              for example: 'NVIDIA'. For allowed strings see\n",
      " |              https://docs.aws.amazon.com/sagemaker/latest/dg/API_OutputConfig.html.\n",
      " |              It can be used instead of target_instance_family.\n",
      " |          compiler_options (dict, optional): Additional parameters for compiler.\n",
      " |              Compiler Options are TargetPlatform / target_instance_family specific. See\n",
      " |              https://docs.aws.amazon.com/sagemaker/latest/dg/API_OutputConfig.html for details.\n",
      " |          **kwargs: Passed to invocation of ``create_model()``.\n",
      " |              Implementations may customize ``create_model()`` to accept\n",
      " |              ``**kwargs`` to customize model creation during deploy. For\n",
      " |              more, see the implementation docs.\n",
      " |      \n",
      " |      Returns:\n",
      " |          sagemaker.model.Model: A SageMaker ``Model`` object. See\n",
      " |          :func:`~sagemaker.model.Model` for full details.\n",
      " |  \n",
      " |  delete_endpoint = func(*args, **kwargs)\n",
      " |  \n",
      " |  deploy(self, initial_instance_count=None, instance_type=None, serializer=None, deserializer=None, accelerator_type=None, endpoint_name=None, use_compiled_model=False, wait=True, model_name=None, kms_key=None, data_capture_config=None, tags=None, serverless_inference_config=None, async_inference_config=None, **kwargs)\n",
      " |      Deploy the trained model to an Amazon SageMaker endpoint.\n",
      " |      \n",
      " |       And then return ``sagemaker.Predictor`` object.\n",
      " |      \n",
      " |      More information:\n",
      " |      http://docs.aws.amazon.com/sagemaker/latest/dg/how-it-works-training.html\n",
      " |      \n",
      " |      Args:\n",
      " |          initial_instance_count (int): The initial number of instances to run\n",
      " |              in the ``Endpoint`` created from this ``Model``. If not using\n",
      " |              serverless inference, then it need to be a number larger or equals\n",
      " |              to 1 (default: None)\n",
      " |          instance_type (str): The EC2 instance type to deploy this Model to.\n",
      " |              For example, 'ml.p2.xlarge', or 'local' for local mode. If not using\n",
      " |              serverless inference, then it is required to deploy a model.\n",
      " |              (default: None)\n",
      " |          serializer (:class:`~sagemaker.serializers.BaseSerializer`): A\n",
      " |              serializer object, used to encode data for an inference endpoint\n",
      " |              (default: None). If ``serializer`` is not None, then\n",
      " |              ``serializer`` will override the default serializer. The\n",
      " |              default serializer is set by the ``predictor_cls``.\n",
      " |          deserializer (:class:`~sagemaker.deserializers.BaseDeserializer`): A\n",
      " |              deserializer object, used to decode data from an inference\n",
      " |              endpoint (default: None). If ``deserializer`` is not None, then\n",
      " |              ``deserializer`` will override the default deserializer. The\n",
      " |              default deserializer is set by the ``predictor_cls``.\n",
      " |          accelerator_type (str): Type of Elastic Inference accelerator to\n",
      " |              attach to an endpoint for model loading and inference, for\n",
      " |              example, 'ml.eia1.medium'. If not specified, no Elastic\n",
      " |              Inference accelerator will be attached to the endpoint. For more\n",
      " |              information:\n",
      " |              https://docs.aws.amazon.com/sagemaker/latest/dg/ei.html\n",
      " |          endpoint_name (str): Name to use for creating an Amazon SageMaker\n",
      " |              endpoint. If not specified, the name of the training job is\n",
      " |              used.\n",
      " |          use_compiled_model (bool): Flag to select whether to use compiled\n",
      " |              (optimized) model. Default: False.\n",
      " |          wait (bool): Whether the call should wait until the deployment of\n",
      " |              model completes (default: True).\n",
      " |          model_name (str): Name to use for creating an Amazon SageMaker\n",
      " |              model. If not specified, the estimator generates a default job name\n",
      " |              based on the training image name and current timestamp.\n",
      " |          kms_key (str): The ARN of the KMS key that is used to encrypt the\n",
      " |              data on the storage volume attached to the instance hosting the\n",
      " |              endpoint.\n",
      " |          data_capture_config (sagemaker.model_monitor.DataCaptureConfig): Specifies\n",
      " |              configuration related to Endpoint data capture for use with\n",
      " |              Amazon SageMaker Model Monitoring. Default: None.\n",
      " |          async_inference_config (sagemaker.model_monitor.AsyncInferenceConfig): Specifies\n",
      " |              configuration related to async inference. Use this configuration when trying\n",
      " |              to create async endpoint and make async inference. If empty config object\n",
      " |              passed through, will use default config to deploy async endpoint. Deploy a\n",
      " |              real-time endpoint if it's None. (default: None)\n",
      " |          serverless_inference_config (sagemaker.serverless.ServerlessInferenceConfig):\n",
      " |              Specifies configuration related to serverless endpoint. Use this configuration\n",
      " |              when trying to create serverless endpoint and make serverless inference. If\n",
      " |              empty object passed through, will use pre-defined values in\n",
      " |              ``ServerlessInferenceConfig`` class to deploy serverless endpoint. Deploy an\n",
      " |              instance based endpoint if it's None. (default: None)\n",
      " |          tags(List[dict[str, str]]): Optional. The list of tags to attach to this specific\n",
      " |              endpoint. Example:\n",
      " |              >>> tags = [{'Key': 'tagname', 'Value': 'tagvalue'}]\n",
      " |              For more information about tags, see\n",
      " |              https://boto3.amazonaws.com/v1/documentation                /api/latest/reference/services/sagemaker.html#SageMaker.Client.add_tags\n",
      " |          **kwargs: Passed to invocation of ``create_model()``.\n",
      " |              Implementations may customize ``create_model()`` to accept\n",
      " |              ``**kwargs`` to customize model creation during deploy.\n",
      " |              For more, see the implementation docs.\n",
      " |      \n",
      " |      Returns:\n",
      " |          sagemaker.predictor.Predictor: A predictor that provides a ``predict()`` method,\n",
      " |              which can be used to send requests to the Amazon SageMaker\n",
      " |              endpoint and obtain inferences.\n",
      " |  \n",
      " |  disable_profiling(self)\n",
      " |      Update the current training job in progress to disable profiling.\n",
      " |      \n",
      " |      Debugger stops collecting the system and framework metrics\n",
      " |      and turns off the Debugger built-in monitoring and profiling rules.\n",
      " |  \n",
      " |  enable_default_profiling(self)\n",
      " |      Update training job to enable Debugger monitoring.\n",
      " |      \n",
      " |      This method enables Debugger monitoring with\n",
      " |      the default ``profiler_config`` parameter to collect system\n",
      " |      metrics and the default built-in ``profiler_report`` rule.\n",
      " |      Framework metrics won't be saved.\n",
      " |      To update training job to emit framework metrics, you can use\n",
      " |      :class:`~sagemaker.estimator.Estimator.update_profiler`\n",
      " |      method and specify the framework metrics you want to enable.\n",
      " |      \n",
      " |      This method is callable when the training job is in progress while\n",
      " |      Debugger monitoring is disabled.\n",
      " |  \n",
      " |  enable_network_isolation(self)\n",
      " |      Return True if this Estimator will need network isolation to run.\n",
      " |      \n",
      " |      Returns:\n",
      " |          bool: Whether this Estimator needs network isolation or not.\n",
      " |  \n",
      " |  fit(self, inputs=None, wait=True, logs='All', job_name=None, experiment_config=None)\n",
      " |      Train a model using the input training dataset.\n",
      " |      \n",
      " |      The API calls the Amazon SageMaker CreateTrainingJob API to start\n",
      " |      model training. The API uses configuration you provided to create the\n",
      " |      estimator and the specified input training data to send the\n",
      " |      CreatingTrainingJob request to Amazon SageMaker.\n",
      " |      \n",
      " |      This is a synchronous operation. After the model training\n",
      " |      successfully completes, you can call the ``deploy()`` method to host the\n",
      " |      model using the Amazon SageMaker hosting services.\n",
      " |      \n",
      " |      Args:\n",
      " |          inputs (str or dict or sagemaker.inputs.TrainingInput or\n",
      " |              sagemaker.inputs.FileSystemInput): Information about the training data.\n",
      " |              This can be one of four types:\n",
      " |      \n",
      " |              * (str) the S3 location where training data is saved, or a file:// path in\n",
      " |                  local mode.\n",
      " |              * (dict[str, str] or dict[str, sagemaker.inputs.TrainingInput] or\n",
      " |                  dict[str, sagemaker.inputs.FileSystemInput]) If using multiple channels for\n",
      " |                  training data, you can specify a dict mapping channel names to strings or\n",
      " |                  :func:`~sagemaker.inputs.TrainingInput` objects or\n",
      " |                  :func:`~sagemaker.inputs.FileSystemInput` objects.\n",
      " |              * (sagemaker.inputs.TrainingInput) - channel configuration for S3 data sources\n",
      " |                  that can provide additional information as well as the path to the training\n",
      " |                  dataset.\n",
      " |                  See :func:`sagemaker.inputs.TrainingInput` for full details.\n",
      " |              * (sagemaker.inputs.FileSystemInput) - channel configuration for\n",
      " |                  a file system data source that can provide additional information as well as\n",
      " |                  the path to the training dataset.\n",
      " |      \n",
      " |          wait (bool): Whether the call should wait until the job completes (default: True).\n",
      " |          logs ([str]): A list of strings specifying which logs to print. Acceptable\n",
      " |              strings are \"All\", \"None\", \"Training\", or \"Rules\". To maintain backwards\n",
      " |              compatibility, boolean values are also accepted and converted to strings.\n",
      " |              Only meaningful when wait is True.\n",
      " |          job_name (str): Training job name. If not specified, the estimator generates\n",
      " |              a default job name based on the training image name and current timestamp.\n",
      " |          experiment_config (dict[str, str]): Experiment management configuration.\n",
      " |              Optionally, the dict can contain three keys:\n",
      " |              'ExperimentName', 'TrialName', and 'TrialComponentDisplayName'.\n",
      " |              The behavior of setting these keys is as follows:\n",
      " |              * If `ExperimentName` is supplied but `TrialName` is not a Trial will be\n",
      " |              automatically created and the job's Trial Component associated with the Trial.\n",
      " |              * If `TrialName` is supplied and the Trial already exists the job's Trial Component\n",
      " |              will be associated with the Trial.\n",
      " |              * If both `ExperimentName` and `TrialName` are not supplied the trial component\n",
      " |              will be unassociated.\n",
      " |              * `TrialComponentDisplayName` is used for display in Studio.\n",
      " |  \n",
      " |  get_vpc_config(self, vpc_config_override='VPC_CONFIG_DEFAULT')\n",
      " |      Returns VpcConfig dict either from this Estimator's subnets and security groups.\n",
      " |      \n",
      " |      Or else validate and return an optional override value.\n",
      " |      \n",
      " |      Args:\n",
      " |          vpc_config_override:\n",
      " |  \n",
      " |  latest_job_debugger_artifacts_path(self)\n",
      " |      Gets the path to the DebuggerHookConfig output artifacts.\n",
      " |      \n",
      " |      Returns:\n",
      " |          str: An S3 path to the output artifacts.\n",
      " |  \n",
      " |  latest_job_profiler_artifacts_path(self)\n",
      " |      Gets the path to the profiling output artifacts.\n",
      " |      \n",
      " |      Returns:\n",
      " |          str: An S3 path to the output artifacts.\n",
      " |  \n",
      " |  latest_job_tensorboard_artifacts_path(self)\n",
      " |      Gets the path to the TensorBoardOutputConfig output artifacts.\n",
      " |      \n",
      " |      Returns:\n",
      " |          str: An S3 path to the output artifacts.\n",
      " |  \n",
      " |  logs(self)\n",
      " |      Display the logs for Estimator's training job.\n",
      " |      \n",
      " |      If the output is a tty or a Jupyter cell, it will be color-coded based\n",
      " |      on which instance the log entry is from.\n",
      " |  \n",
      " |  prepare_workflow_for_training(self, job_name=None)\n",
      " |      Calls _prepare_for_training. Used when setting up a workflow.\n",
      " |      \n",
      " |      Args:\n",
      " |          job_name (str): Name of the training job to be created. If not\n",
      " |              specified, one is generated, using the base name given to the\n",
      " |              constructor if applicable.\n",
      " |  \n",
      " |  register(self, content_types, response_types, inference_instances, transform_instances, image_uri=None, model_package_name=None, model_package_group_name=None, model_metrics=None, metadata_properties=None, marketplace_cert=False, approval_status=None, description=None, compile_model_family=None, model_name=None, drift_check_baselines=None, **kwargs)\n",
      " |      Creates a model package for creating SageMaker models or listing on Marketplace.\n",
      " |      \n",
      " |      Args:\n",
      " |          content_types (list): The supported MIME types for the input data.\n",
      " |          response_types (list): The supported MIME types for the output data.\n",
      " |          inference_instances (list): A list of the instance types that are used to\n",
      " |              generate inferences in real-time.\n",
      " |          transform_instances (list): A list of the instance types on which a transformation\n",
      " |              job can be run or on which an endpoint can be deployed.\n",
      " |          image_uri (str): The container image uri for Model Package, if not specified,\n",
      " |              Estimator's training container image will be used (default: None).\n",
      " |          model_package_name (str): Model Package name, exclusive to `model_package_group_name`,\n",
      " |              using `model_package_name` makes the Model Package un-versioned (default: None).\n",
      " |          model_package_group_name (str): Model Package Group name, exclusive to\n",
      " |              `model_package_name`, using `model_package_group_name` makes the Model Package\n",
      " |              versioned (default: None).\n",
      " |          model_metrics (ModelMetrics): ModelMetrics object (default: None).\n",
      " |          metadata_properties (MetadataProperties): MetadataProperties (default: None).\n",
      " |          marketplace_cert (bool): A boolean value indicating if the Model Package is certified\n",
      " |              for AWS Marketplace (default: False).\n",
      " |          approval_status (str): Model Approval Status, values can be \"Approved\", \"Rejected\",\n",
      " |              or \"PendingManualApproval\" (default: \"PendingManualApproval\").\n",
      " |          description (str): Model Package description (default: None).\n",
      " |          compile_model_family (str): Instance family for compiled model, if specified, a compiled\n",
      " |              model will be used (default: None).\n",
      " |          model_name (str): User defined model name (default: None).\n",
      " |          drift_check_baselines (DriftCheckBaselines): DriftCheckBaselines object (default: None).\n",
      " |          **kwargs: Passed to invocation of ``create_model()``. Implementations may customize\n",
      " |              ``create_model()`` to accept ``**kwargs`` to customize model creation during\n",
      " |              deploy. For more, see the implementation docs.\n",
      " |      \n",
      " |      Returns:\n",
      " |          str: A string of SageMaker Model Package ARN.\n",
      " |  \n",
      " |  update_profiler(self, rules=None, system_monitor_interval_millis=None, s3_output_path=None, framework_profile_params=None, disable_framework_metrics=False)\n",
      " |      Update training jobs to enable profiling.\n",
      " |      \n",
      " |      This method updates the ``profiler_config`` parameter\n",
      " |      and initiates Debugger built-in rules for profiling.\n",
      " |      \n",
      " |      Args:\n",
      " |          rules (list[:class:`~sagemaker.debugger.ProfilerRule`]): A list of\n",
      " |              :class:`~sagemaker.debugger.ProfilerRule` objects to define\n",
      " |              rules for continuous analysis with SageMaker Debugger. Currently, you can\n",
      " |              only add new profiler rules during the training job. (default: None)\n",
      " |          s3_output_path (str): The location in S3 to store the output. If profiler is enabled\n",
      " |              once, s3_output_path cannot be changed. (default: None)\n",
      " |          system_monitor_interval_millis (int): How often profiling system metrics are\n",
      " |              collected; Unit: Milliseconds (default: None)\n",
      " |          framework_profile_params (:class:`~sagemaker.debugger.FrameworkProfile`):\n",
      " |              A parameter object for framework metrics profiling. Configure it using\n",
      " |              the :class:`~sagemaker.debugger.FrameworkProfile` class.\n",
      " |              To use the default framework profile parameters, pass ``FrameworkProfile()``.\n",
      " |              For more information about the default values,\n",
      " |              see :class:`~sagemaker.debugger.FrameworkProfile`. (default: None)\n",
      " |          disable_framework_metrics (bool): Specify whether to disable all the framework metrics.\n",
      " |              This won't update system metrics and the Debugger built-in rules for monitoring.\n",
      " |              To stop both monitoring and profiling,\n",
      " |              use the :class:`~sagemaker.estimator.Estimator.desable_profiling`\n",
      " |              method. (default: ``False``)\n",
      " |      \n",
      " |      .. attention::\n",
      " |      \n",
      " |          Updating the profiling configuration for TensorFlow dataloader profiling\n",
      " |          is currently not available. If you started a TensorFlow training job only with\n",
      " |          monitoring and want to enable profiling while the training job is running,\n",
      " |          the dataloader profiling cannot be updated.\n",
      " |  \n",
      " |  ----------------------------------------------------------------------\n",
      " |  Data descriptors inherited from sagemaker.estimator.EstimatorBase:\n",
      " |  \n",
      " |  __dict__\n",
      " |      dictionary for instance variables (if defined)\n",
      " |  \n",
      " |  __weakref__\n",
      " |      list of weak references to the object (if defined)\n",
      " |  \n",
      " |  model_data\n",
      " |      str: The model location in S3. Only set if Estimator has been ``fit()``.\n",
      " |  \n",
      " |  training_job_analytics\n",
      " |      Return a ``TrainingJobAnalytics`` object for the current training job.\n",
      " |  \n",
      " |  ----------------------------------------------------------------------\n",
      " |  Data and other attributes inherited from sagemaker.estimator.EstimatorBase:\n",
      " |  \n",
      " |  CONTAINER_CODE_CHANNEL_SOURCEDIR_PATH = '/opt/ml/input/data/code/sourc...\n",
      " |  \n",
      " |  INSTANCE_TYPE = 'sagemaker_instance_type'\n",
      " |  \n",
      " |  LAUNCH_MPI_ENV_NAME = 'sagemaker_mpi_enabled'\n",
      " |  \n",
      " |  LAUNCH_PS_ENV_NAME = 'sagemaker_parameter_server_enabled'\n",
      " |  \n",
      " |  LAUNCH_SM_DDP_ENV_NAME = 'sagemaker_distributed_dataparallel_enabled'\n",
      " |  \n",
      " |  MPI_CUSTOM_MPI_OPTIONS = 'sagemaker_mpi_custom_mpi_options'\n",
      " |  \n",
      " |  MPI_NUM_PROCESSES_PER_HOST = 'sagemaker_mpi_num_of_processes_per_host'\n",
      " |  \n",
      " |  SM_DDP_CUSTOM_MPI_OPTIONS = 'sagemaker_distributed_dataparallel_custom...\n",
      "\n"
     ]
    }
   ],
   "source": [
    "help(HuggingFace)"
   ]
  },
  {
   "cell_type": "code",
   "execution_count": 4,
   "metadata": {
    "id": "Af31jkAy4LUd"
   },
   "outputs": [],
   "source": [
    "sns.set(style='whitegrid', palette='muted', font_scale=1.2)\n",
    "rcParams['figure.figsize'] = 17, 8"
   ]
  },
  {
   "cell_type": "markdown",
   "metadata": {
    "id": "h7_vDwkl4LUf"
   },
   "source": [
    "## Set up SageMaker session and bucket"
   ]
  },
  {
   "cell_type": "code",
   "execution_count": 5,
   "metadata": {
    "id": "nZAqgP4R4LUg"
   },
   "outputs": [
    {
     "name": "stdout",
     "output_type": "stream",
     "text": [
      "sagemaker role arn: arn:aws:iam::544200528846:role/service-role/AmazonSageMaker-ExecutionRole-20220205T185098\n",
      "sagemaker bucket: sagemaker-ap-northeast-1-544200528846\n",
      "sagemaker session region: ap-northeast-1\n"
     ]
    }
   ],
   "source": [
    "sess = sagemaker.Session()\n",
    "sagemaker_session_bucket=None\n",
    "if sagemaker_session_bucket is None and sess is not None:\n",
    "    # set to default bucket if a bucket name is not given\n",
    "    sagemaker_session_bucket = sess.default_bucket()\n",
    "\n",
    "role = sagemaker.get_execution_role()\n",
    "sess = sagemaker.Session(default_bucket=sagemaker_session_bucket)\n",
    "\n",
    "print(f\"sagemaker role arn: {role}\")\n",
    "print(f\"sagemaker bucket: {sess.default_bucket()}\")\n",
    "print(f\"sagemaker session region: {sess.boto_region_name}\")"
   ]
  },
  {
   "cell_type": "markdown",
   "metadata": {
    "id": "7CY1Cxt-4LUi"
   },
   "source": [
    "# Data preparation\n",
    "\n",
    "The data preparation is straightforward as you're using the `datasets` library to download and preprocess the `\n",
    "amazon_polarity` dataset directly from Hugging face. After preprocessing, the dataset will be uploaded to our `sagemaker_session_bucket` to be used within our training job."
   ]
  },
  {
   "cell_type": "code",
   "execution_count": 6,
   "metadata": {
    "id": "wd4H_JrY4LUi"
   },
   "outputs": [
    {
     "data": {
      "application/vnd.jupyter.widget-view+json": {
       "model_id": "e88b0b6c439f4ec190dbbd65df83ec4e",
       "version_major": 2,
       "version_minor": 0
      },
      "text/plain": [
       "Downloading:   0%|          | 0.00/1.92k [00:00<?, ?B/s]"
      ]
     },
     "metadata": {},
     "output_type": "display_data"
    },
    {
     "data": {
      "application/vnd.jupyter.widget-view+json": {
       "model_id": "4df1baa500634c8fa41a3669263e35ee",
       "version_major": 2,
       "version_minor": 0
      },
      "text/plain": [
       "Downloading:   0%|          | 0.00/1.05k [00:00<?, ?B/s]"
      ]
     },
     "metadata": {},
     "output_type": "display_data"
    },
    {
     "name": "stdout",
     "output_type": "stream",
     "text": [
      "Downloading and preparing dataset imdb/plain_text (download: 80.23 MiB, generated: 127.02 MiB, post-processed: Unknown size, total: 207.25 MiB) to /home/ec2-user/.cache/huggingface/datasets/imdb/plain_text/1.0.0/e3c66f1788a67a89c7058d97ff62b6c30531e05b549de56d3ab91891f0561f9a...\n"
     ]
    },
    {
     "data": {
      "application/vnd.jupyter.widget-view+json": {
       "model_id": "0b2278ee92434a4f8202e7e2a007fd04",
       "version_major": 2,
       "version_minor": 0
      },
      "text/plain": [
       "Downloading:   0%|          | 0.00/84.1M [00:00<?, ?B/s]"
      ]
     },
     "metadata": {},
     "output_type": "display_data"
    },
    {
     "data": {
      "application/vnd.jupyter.widget-view+json": {
       "model_id": "",
       "version_major": 2,
       "version_minor": 0
      },
      "text/plain": [
       "0 examples [00:00, ? examples/s]"
      ]
     },
     "metadata": {},
     "output_type": "display_data"
    },
    {
     "data": {
      "application/vnd.jupyter.widget-view+json": {
       "model_id": "",
       "version_major": 2,
       "version_minor": 0
      },
      "text/plain": [
       "0 examples [00:00, ? examples/s]"
      ]
     },
     "metadata": {},
     "output_type": "display_data"
    },
    {
     "data": {
      "application/vnd.jupyter.widget-view+json": {
       "model_id": "",
       "version_major": 2,
       "version_minor": 0
      },
      "text/plain": [
       "0 examples [00:00, ? examples/s]"
      ]
     },
     "metadata": {},
     "output_type": "display_data"
    },
    {
     "name": "stdout",
     "output_type": "stream",
     "text": [
      "Dataset imdb downloaded and prepared to /home/ec2-user/.cache/huggingface/datasets/imdb/plain_text/1.0.0/e3c66f1788a67a89c7058d97ff62b6c30531e05b549de56d3ab91891f0561f9a. Subsequent calls will reuse this data.\n"
     ]
    }
   ],
   "source": [
    "dataset_name = 'imdb'\n",
    "\n",
    "train_dataset, test_dataset = load_dataset(dataset_name, split=['train', 'test'])\n",
    "train_dataset = train_dataset.shuffle().select(range(5000)) # limiting the dataset size to speed up the training during the demo\n",
    "test_dataset = test_dataset.shuffle().select(range(1000))"
   ]
  },
  {
   "cell_type": "code",
   "execution_count": 7,
   "metadata": {
    "id": "6t87Xlh74LUj"
   },
   "outputs": [
    {
     "name": "stdout",
     "output_type": "stream",
     "text": [
      "['text', 'label']\n"
     ]
    }
   ],
   "source": [
    "print(train_dataset.column_names)"
   ]
  },
  {
   "cell_type": "markdown",
   "metadata": {
    "id": "bcnmxar54LUk"
   },
   "source": [
    "Let's have a look at en example from the training dataset. This allows us to understand what is the format that is expected by Hugging Face Transformers library for input."
   ]
  },
  {
   "cell_type": "code",
   "execution_count": 8,
   "metadata": {
    "id": "Xydib8VE4LUk"
   },
   "outputs": [
    {
     "data": {
      "text/plain": [
       "{'text': 'While the original 1932 version, with Preston Foster, was good, there\\'s no remake more worthy than this 1959 one, or more impossible to find anywhere, just as I strongly suspect Mickey Rooney to have had something to do with that. Never could a mere performance have ever been so masterfully brilliant, or a script more thought-provoking, as well as an improvement upon the original. Many years after the last of my several viewings of this film, in 1970, I read an article in which Mickey Rooney was recounting a visit he\\'d made to death row, and which had apparently very drastically eliminated whatever sense of personal identification he\\'d felt with people in similar circumstances. The article was about as short as the main character here, and didn\\'t cover much, other than the extent to which his extreme disillusionment with the quality of the inmates themselves had been emphasized, even in language I would not care to explicitly quote here. . . . . One of my main problems with capital punishment is that, of course, it is not evenly, impartially applied, just as many innocent people are far-too-carelessly, thus unnecessarily sent to meet this particular fate. Another problem I have with it is that it is not applied swiftly enough, or, for that matter, even publicly enough! The bible makes a special point, in such cases, about one of the more important purposes of such, as a deterrent, being ineffectually obscured, minus, not only a public viewing, but also the direct participation of all! As for those who claim to prove, statistically, that such is not an effective deterrent? In addition to having a problem about the reliability of their data, I have little if any objectively disprovable doubt many are behind bars now due to the extent that such a deterrent is lacking. However, I do have a problem about the fact that Robert Duvall, in The Apostle, had been punished at all, for his particular \"crime,\" or that the only hope of leniency for one such as he would have to be based on a \"temporary insanity\" defense, as though that would serve as the only acceptable excuse in his kind of case. . . . In addition to various other questions concerning the motives of Mickey Rooney for that particular visit he\\'d recounted, and about the answers to which I can only try to speculate, I suspect the main one had been of a decidedly religious nature. I don\\'t know exactly when he\\'d become the professing Christian he now makes it a special point, whenever possible, to emphasize that he is; but, as anybody should be well-aware, this particular category of people tends to be the most vehemently out for blood, when it comes to extracting an eye for an eye. However, I have no particular bone of contention concerning that, per se, just as there\\'s no doubt, scripturally speaking, that not all, and perhaps not even most, shall be spared the same ultimate fate, at the hands of the Lord Himself, as a result of His sacrifice on the cross. However, there is a problem, for me, about the spirit or attitude with which most professing Christians emphasize their enthusiasm for capital punishment; for, contrary to the Lord Himself, who would love to see everybody saved (Ezekiel 18:32) (II Peter 3:9), they seem to go vindictively out of their way to find reasons to condemn! . . . What most people, on either side of this superlatively ever-burning issue, cannot appear to sufficiently appreciate, is that the Lord is as dynamically and elusively soft in nature as He is hard. The two sides of His nature appear to be so inherently incompatible as to render Him mentally deranged, at least by any strictly human reckoning. Yet, regardless of how harrowingly ungraspable this miraculously dynamic blending of the water and oil in His nature surely is, there can be no doubt that anything short of it, or anything fanatically and characteristically on either one side or the other of this equation, falls inadequately and unacceptably short of the entire judicial truth. Indeed, I\\'ve seen the most blood-curdling thirst for the same come out, self-contradictorily enough, on far-too-many occasions, whenever the categorically anti-death penalty advocates are confronted, even in the most rationally well-balanced ways, with the fact that, although the Lord died for everybody, not all are thereby going to be saved. After-all, in order to receive absolution, one must, to repeat the same term, reach out and receive it, that is, repent (Luke 13:3-5). Could anything make more sense? . . . But, then, what about the Lord\\'s command to forgive, even in the case of one\\'s enemies, of those who despise and persecute you without a just cause or provocation? One of the far-too-prevailing difficulties with this kind of sentimentality, as popularly misinterpreted, is the way it obscuringly over-simplifies the real meaning of forgiveness. The act of forgiveness does not, in itself, mean the same thing as unconditionally excusing the one being forgiven. When one takes a clearly sober, rationally well-balanced view here, from the perspective of God\\'s own attitude, all it actually amounts to is a fervent wish that the one forgiven will ultimately succeed at finding his way, seeing the light, and being granted mercy. This attitude is, of course, the very opposite of, say, that of Jonah, who actually resented it when God told him that his preaching to the people of Nineveh would result in their repentance. Jonah didn\\'t want them to repent, but vindictively desired that they be destroyed. How self-righteously, cold-bloodedly like unto most professing Christians he was, save that even his reasons were undoubtedly better than most! I envy Jonah almost as much as he would me! However, minus the repentance of the one being forgiven, any forgiveness he may receive from a genuine Christian is not going to do him any good. In such a case, the only one to benefit is the real Christian himself!',\n",
       " 'label': 1}"
      ]
     },
     "execution_count": 8,
     "metadata": {},
     "output_type": "execute_result"
    }
   ],
   "source": [
    "train_dataset[0]"
   ]
  },
  {
   "cell_type": "markdown",
   "metadata": {
    "id": "66DZY3vq4LUl"
   },
   "source": [
    "The dataset is already well balanced"
   ]
  },
  {
   "cell_type": "code",
   "execution_count": 9,
   "metadata": {
    "id": "qn3W3ZTq4LUl"
   },
   "outputs": [
    {
     "data": {
      "image/png": "[encoded data removed]",
      "text/plain": [
       "<Figure size 1224x576 with 1 Axes>"
      ]
     },
     "metadata": {
      "image/png": {
       "height": 489,
       "width": 1024
      }
     },
     "output_type": "display_data"
    }
   ],
   "source": [
    "sns.countplot(x=train_dataset['label'])\n",
    "plt.xlabel('label');"
   ]
  },
  {
   "cell_type": "markdown",
   "metadata": {
    "id": "Rru7U8-a4LUl"
   },
   "source": [
    "## Preparing the dataset to be used with PyTorch\n",
    "You now need to convert the dataset for training. This means using a tokenizer and getting the PyTorch tensors. Hugging Face provides an [`AutoTokenizer`](https://huggingface.co/transformers/model_doc/auto.html#autotokenizer)"
   ]
  },
  {
   "cell_type": "markdown",
   "metadata": {
    "id": "YneBVHMK4LUm"
   },
   "source": [
    "This downloads the tokenizer:"
   ]
  },
  {
   "cell_type": "code",
   "execution_count": 10,
   "metadata": {
    "id": "NOXDdw5G4LUo"
   },
   "outputs": [
    {
     "data": {
      "application/vnd.jupyter.widget-view+json": {
       "model_id": "c3434bdf59c142b78dc61efe59adda36",
       "version_major": 2,
       "version_minor": 0
      },
      "text/plain": [
       "Downloading:   0%|          | 0.00/411 [00:00<?, ?B/s]"
      ]
     },
     "metadata": {},
     "output_type": "display_data"
    },
    {
     "data": {
      "application/vnd.jupyter.widget-view+json": {
       "model_id": "264e4aba606a4209826d34dd19e0feac",
       "version_major": 2,
       "version_minor": 0
      },
      "text/plain": [
       "Downloading:   0%|          | 0.00/213k [00:00<?, ?B/s]"
      ]
     },
     "metadata": {},
     "output_type": "display_data"
    },
    {
     "data": {
      "application/vnd.jupyter.widget-view+json": {
       "model_id": "929e1a4897034fda8086c09b8af17368",
       "version_major": 2,
       "version_minor": 0
      },
      "text/plain": [
       "Downloading:   0%|          | 0.00/436k [00:00<?, ?B/s]"
      ]
     },
     "metadata": {},
     "output_type": "display_data"
    },
    {
     "data": {
      "application/vnd.jupyter.widget-view+json": {
       "model_id": "a7ac9498901f491b9b9d1dc701c659c7",
       "version_major": 2,
       "version_minor": 0
      },
      "text/plain": [
       "Downloading:   0%|          | 0.00/29.0 [00:00<?, ?B/s]"
      ]
     },
     "metadata": {},
     "output_type": "display_data"
    }
   ],
   "source": [
    "tokenizer_name = 'distilbert-base-cased'\n",
    "tokenizer = AutoTokenizer.from_pretrained(tokenizer_name)"
   ]
  },
  {
   "cell_type": "markdown",
   "metadata": {
    "id": "IofLhrTh4LUp"
   },
   "source": [
    "And this tokenize our training and testing datasets and then set them to the PyTorch format:"
   ]
  },
  {
   "cell_type": "code",
   "execution_count": 11,
   "metadata": {
    "id": "7pVu4WuH4LUq"
   },
   "outputs": [
    {
     "data": {
      "application/vnd.jupyter.widget-view+json": {
       "model_id": "b17a726f824a4826b79c4ec901282df9",
       "version_major": 2,
       "version_minor": 0
      },
      "text/plain": [
       "  0%|          | 0/1 [00:00<?, ?ba/s]"
      ]
     },
     "metadata": {},
     "output_type": "display_data"
    },
    {
     "data": {
      "application/vnd.jupyter.widget-view+json": {
       "model_id": "9cb08458ed1d439382143b0947c8a0b3",
       "version_major": 2,
       "version_minor": 0
      },
      "text/plain": [
       "  0%|          | 0/1 [00:00<?, ?ba/s]"
      ]
     },
     "metadata": {},
     "output_type": "display_data"
    }
   ],
   "source": [
    "# Helper function to get the content to tokenize\n",
    "def tokenize(batch):\n",
    "    return tokenizer(batch['text'], padding='max_length', truncation=True)\n",
    "\n",
    "# Tokenize\n",
    "train_dataset = train_dataset.map(tokenize, batched=True, batch_size=len(train_dataset))\n",
    "test_dataset = test_dataset.map(tokenize, batched=True, batch_size=len(test_dataset))\n",
    "\n",
    "# Set the format to PyTorch\n",
    "train_dataset = train_dataset.rename_column(\"label\", \"labels\")\n",
    "train_dataset.set_format('torch', columns=['input_ids', 'attention_mask', 'labels'])\n",
    "test_dataset = test_dataset.rename_column(\"label\", \"labels\")\n",
    "test_dataset.set_format('torch', columns=['input_ids', 'attention_mask', 'labels'])"
   ]
  },
  {
   "cell_type": "markdown",
   "metadata": {
    "id": "CT66eccr4LUr"
   },
   "source": [
    "## Uploading the data to S3\n",
    "\n",
    "Now that the data as been processed you can upload it to S3 for training"
   ]
  },
  {
   "cell_type": "code",
   "execution_count": 12,
   "metadata": {
    "id": "GL8NpcBy4LUr"
   },
   "outputs": [
    {
     "name": "stdout",
     "output_type": "stream",
     "text": [
      "Uploaded training data to s3://sagemaker-ap-northeast-1-544200528846/samples/datasets/imdb/train\n",
      "Uploaded testing data to s3://sagemaker-ap-northeast-1-544200528846/samples/datasets/imdb/test\n"
     ]
    }
   ],
   "source": [
    "import botocore\n",
    "from datasets.filesystems import S3FileSystem\n",
    "\n",
    "# Upload to S3\n",
    "s3 = S3FileSystem()\n",
    "s3_prefix = f'samples/datasets/{dataset_name}'\n",
    "training_input_path = f's3://{sess.default_bucket()}/{s3_prefix}/train'\n",
    "train_dataset.save_to_disk(training_input_path,fs=s3)\n",
    "test_input_path = f's3://{sess.default_bucket()}/{s3_prefix}/test'\n",
    "test_dataset.save_to_disk(test_input_path,fs=s3)\n",
    "\n",
    "print(f'Uploaded training data to {training_input_path}')\n",
    "print(f'Uploaded testing data to {test_input_path}')"
   ]
  },
  {
   "cell_type": "markdown",
   "metadata": {
    "id": "sh1HZ48f4LUs"
   },
   "source": [
    "# Fine-tuning & starting Sagemaker Training Job\n",
    "\n",
    "In order to create a sagemaker training job you need an `HuggingFace` Estimator. The Estimator handles end-to-end Amazon SageMaker training and deployment tasks. In a Estimator you define, which fine-tuning script should be used as `entry_point`, which `instance_type` should be used, which `hyperparameters` are passed in.\n",
    "```python\n",
    "huggingface_estimator = HuggingFace(entry_point='train.py',\n",
    "                            source_dir='./scripts',\n",
    "                            instance_type='ml.p3.2xlarge',\n",
    "                            instance_count=1,\n",
    "                            role=role,\n",
    "                            transformers_version='4.6',\n",
    "                            pytorch_version='1.7',\n",
    "                            py_version='py36',\n",
    "                            hyperparameters = hyperparameters)\n",
    "```\n",
    "When you create a SageMaker training job, SageMaker takes care of starting and managing all the required compute instances with the `huggingface` container, uploads the provided fine-tuning script `train.py` and downloads the data from our `sagemaker_session_bucket` into the container local storage at `/opt/ml/input/data`. Then, it starts the training job by running. \n",
    "```python\n",
    "/opt/conda/bin/python train.py --epochs 5 --model_name distilbert-base-cased --token_name distilbert-base-cased --train_batch_size 32\n",
    "```\n",
    "\n",
    "The `hyperparameters` you define in the `HuggingFace` estimator are passed in as named arguments. The training script expect the `HuggingFace` model and token name so it can retrieve them.\n",
    "\n",
    "Sagemaker is providing other useful properties about the training environment through various environment variables, including the following:\n",
    "\n",
    "* `SM_MODEL_DIR`: A string that represents the path where the training job writes the model artifacts to. After training, artifacts in this directory are uploaded to S3 for model hosting.\n",
    "\n",
    "* `SM_NUM_GPUS`: An integer representing the number of GPUs available to the host.\n",
    "\n",
    "* `SM_CHANNEL_XXXX:` A string that represents the path to the directory that contains the input data for the specified channel. For example, if you specify two input channels in the HuggingFace estimator’s fit call, named `train` and `test`, the environment variables `SM_CHANNEL_TRAIN` and `SM_CHANNEL_TEST` are set."
   ]
  },
  {
   "cell_type": "markdown",
   "metadata": {
    "id": "4K4_hS5-4LUt"
   },
   "source": [
    "You can inspect the training script by running the next cell"
   ]
  },
  {
   "cell_type": "code",
   "execution_count": 13,
   "metadata": {
    "id": "v7TYS0VM4LUt"
   },
   "outputs": [
    {
     "name": "stdout",
     "output_type": "stream",
     "text": [
      "\u001b[33m\"\"\"\u001b[39;49;00m\r\n",
      "\u001b[33mTraining script for Hugging Face SageMaker Estimator\u001b[39;49;00m\r\n",
      "\u001b[33m\"\"\"\u001b[39;49;00m\r\n",
      "\u001b[34mimport\u001b[39;49;00m \u001b[04m\u001b[36mlogging\u001b[39;49;00m\r\n",
      "\u001b[34mimport\u001b[39;49;00m \u001b[04m\u001b[36msys\u001b[39;49;00m\r\n",
      "\u001b[34mimport\u001b[39;49;00m \u001b[04m\u001b[36margparse\u001b[39;49;00m\r\n",
      "\u001b[34mimport\u001b[39;49;00m \u001b[04m\u001b[36mos\u001b[39;49;00m\r\n",
      "\u001b[34mfrom\u001b[39;49;00m \u001b[04m\u001b[36mtransformers\u001b[39;49;00m \u001b[34mimport\u001b[39;49;00m AutoModelForSequenceClassification, AutoTokenizer\r\n",
      "\u001b[34mfrom\u001b[39;49;00m \u001b[04m\u001b[36mtransformers\u001b[39;49;00m \u001b[34mimport\u001b[39;49;00m Trainer, TrainingArguments\r\n",
      "\u001b[34mfrom\u001b[39;49;00m \u001b[04m\u001b[36mdatasets\u001b[39;49;00m \u001b[34mimport\u001b[39;49;00m load_from_disk\r\n",
      "\u001b[34mfrom\u001b[39;49;00m \u001b[04m\u001b[36msklearn\u001b[39;49;00m\u001b[04m\u001b[36m.\u001b[39;49;00m\u001b[04m\u001b[36mmetrics\u001b[39;49;00m \u001b[34mimport\u001b[39;49;00m accuracy_score, precision_recall_fscore_support\r\n",
      "\r\n",
      "\u001b[34mdef\u001b[39;49;00m \u001b[32mcompute_metrics\u001b[39;49;00m(pred):\r\n",
      "    \u001b[33m\"\"\"Compute metrics function for binary classification\"\"\"\u001b[39;49;00m\r\n",
      "    labels = pred.label_ids\r\n",
      "    preds = pred.predictions.argmax(-\u001b[34m1\u001b[39;49;00m)\r\n",
      "    precision, recall, f_1, _ = precision_recall_fscore_support(labels, preds, average=\u001b[33m\"\u001b[39;49;00m\u001b[33mbinary\u001b[39;49;00m\u001b[33m\"\u001b[39;49;00m)\r\n",
      "    acc = accuracy_score(labels, preds)\r\n",
      "    \u001b[34mreturn\u001b[39;49;00m {\u001b[33m\"\u001b[39;49;00m\u001b[33maccuracy\u001b[39;49;00m\u001b[33m\"\u001b[39;49;00m: acc, \u001b[33m\"\u001b[39;49;00m\u001b[33mf1\u001b[39;49;00m\u001b[33m\"\u001b[39;49;00m: f_1, \u001b[33m\"\u001b[39;49;00m\u001b[33mprecision\u001b[39;49;00m\u001b[33m\"\u001b[39;49;00m: precision, \u001b[33m\"\u001b[39;49;00m\u001b[33mrecall\u001b[39;49;00m\u001b[33m\"\u001b[39;49;00m: recall}\r\n",
      "\r\n",
      "\u001b[34mdef\u001b[39;49;00m \u001b[32m_train\u001b[39;49;00m(args):\r\n",
      "    \u001b[37m# load datasets\u001b[39;49;00m\r\n",
      "    train_dataset = load_from_disk(args.training_dir)\r\n",
      "    test_dataset = load_from_disk(args.test_dir)\r\n",
      "\r\n",
      "    logger.info(\u001b[33m\"\u001b[39;49;00m\u001b[33mloaded train_dataset length is: \u001b[39;49;00m\u001b[33m%s\u001b[39;49;00m\u001b[33m\"\u001b[39;49;00m, \u001b[36mlen\u001b[39;49;00m(train_dataset))\r\n",
      "    logger.info(\u001b[33m\"\u001b[39;49;00m\u001b[33mloaded test_dataset length is: \u001b[39;49;00m\u001b[33m%s\u001b[39;49;00m\u001b[33m\"\u001b[39;49;00m, \u001b[36mlen\u001b[39;49;00m(test_dataset))\r\n",
      "\r\n",
      "    \r\n",
      "    \u001b[37m# download model and tokenizer from model hub\u001b[39;49;00m\r\n",
      "    model = AutoModelForSequenceClassification.from_pretrained(args.model_name)\r\n",
      "    tokenizer = AutoTokenizer.from_pretrained(args.tokenizer_name)\r\n",
      "\r\n",
      "\r\n",
      "    \u001b[37m# define training args\u001b[39;49;00m\r\n",
      "    training_args = TrainingArguments(\r\n",
      "        output_dir=args.model_dir,\r\n",
      "        num_train_epochs=args.epochs,\r\n",
      "        per_device_train_batch_size=args.train_batch_size,\r\n",
      "        per_device_eval_batch_size=args.eval_batch_size,\r\n",
      "        warmup_steps=args.warmup_steps,\r\n",
      "        evaluation_strategy=\u001b[33m\"\u001b[39;49;00m\u001b[33mepoch\u001b[39;49;00m\u001b[33m\"\u001b[39;49;00m,\r\n",
      "        logging_dir=\u001b[33mf\u001b[39;49;00m\u001b[33m\"\u001b[39;49;00m\u001b[33m{\u001b[39;49;00margs.output_data_dir\u001b[33m}\u001b[39;49;00m\u001b[33m/logs\u001b[39;49;00m\u001b[33m\"\u001b[39;49;00m,\r\n",
      "        learning_rate=\u001b[36mfloat\u001b[39;49;00m(args.learning_rate),\r\n",
      "    )\r\n",
      "\r\n",
      "    \u001b[37m# create Trainer instance\u001b[39;49;00m\r\n",
      "    trainer = Trainer(\r\n",
      "        model=model,\r\n",
      "        args=training_args,\r\n",
      "        compute_metrics=compute_metrics,\r\n",
      "        train_dataset=train_dataset,\r\n",
      "        eval_dataset=test_dataset,\r\n",
      "        tokenizer=tokenizer,\r\n",
      "    )\r\n",
      "\r\n",
      "    \u001b[37m# train model\u001b[39;49;00m\r\n",
      "    trainer.train()\r\n",
      "\r\n",
      "    \u001b[37m# evaluate model\u001b[39;49;00m\r\n",
      "    eval_result = trainer.evaluate(eval_dataset=test_dataset)\r\n",
      "\r\n",
      "    \u001b[37m# writes eval result to file which can be accessed later in s3 ouput\u001b[39;49;00m\r\n",
      "    \u001b[34mwith\u001b[39;49;00m \u001b[36mopen\u001b[39;49;00m(os.path.join(args.output_data_dir, \u001b[33m\"\u001b[39;49;00m\u001b[33meval_results.txt\u001b[39;49;00m\u001b[33m\"\u001b[39;49;00m), \u001b[33m\"\u001b[39;49;00m\u001b[33mw\u001b[39;49;00m\u001b[33m\"\u001b[39;49;00m) \u001b[34mas\u001b[39;49;00m writer:\r\n",
      "        \u001b[36mprint\u001b[39;49;00m(\u001b[33m\"\u001b[39;49;00m\u001b[33m***** Eval results *****\u001b[39;49;00m\u001b[33m\"\u001b[39;49;00m)\r\n",
      "        \u001b[34mfor\u001b[39;49;00m key, value \u001b[35min\u001b[39;49;00m \u001b[36msorted\u001b[39;49;00m(eval_result.items()):\r\n",
      "            writer.write(\u001b[33mf\u001b[39;49;00m\u001b[33m\"\u001b[39;49;00m\u001b[33m{\u001b[39;49;00mkey\u001b[33m}\u001b[39;49;00m\u001b[33m = \u001b[39;49;00m\u001b[33m{\u001b[39;49;00mvalue\u001b[33m}\u001b[39;49;00m\u001b[33m\\n\u001b[39;49;00m\u001b[33m\"\u001b[39;49;00m)\r\n",
      "\r\n",
      "    \u001b[37m# Saves the model to s3\u001b[39;49;00m\r\n",
      "    trainer.save_model(args.model_dir)\r\n",
      "\r\n",
      "\u001b[34mif\u001b[39;49;00m \u001b[31m__name__\u001b[39;49;00m == \u001b[33m\"\u001b[39;49;00m\u001b[33m__main__\u001b[39;49;00m\u001b[33m\"\u001b[39;49;00m:\r\n",
      "\r\n",
      "    parser = argparse.ArgumentParser()\r\n",
      "\r\n",
      "    \u001b[37m# hyperparameters sent by the client are passed as command-line arguments to the script.\u001b[39;49;00m\r\n",
      "    parser.add_argument(\u001b[33m\"\u001b[39;49;00m\u001b[33m--epochs\u001b[39;49;00m\u001b[33m\"\u001b[39;49;00m, \u001b[36mtype\u001b[39;49;00m=\u001b[36mint\u001b[39;49;00m, default=\u001b[34m3\u001b[39;49;00m)\r\n",
      "    parser.add_argument(\u001b[33m\"\u001b[39;49;00m\u001b[33m--train_batch_size\u001b[39;49;00m\u001b[33m\"\u001b[39;49;00m, \u001b[36mtype\u001b[39;49;00m=\u001b[36mint\u001b[39;49;00m, default=\u001b[34m32\u001b[39;49;00m)\r\n",
      "    parser.add_argument(\u001b[33m\"\u001b[39;49;00m\u001b[33m--eval_batch_size\u001b[39;49;00m\u001b[33m\"\u001b[39;49;00m, \u001b[36mtype\u001b[39;49;00m=\u001b[36mint\u001b[39;49;00m, default=\u001b[34m64\u001b[39;49;00m)\r\n",
      "    parser.add_argument(\u001b[33m\"\u001b[39;49;00m\u001b[33m--warmup_steps\u001b[39;49;00m\u001b[33m\"\u001b[39;49;00m, \u001b[36mtype\u001b[39;49;00m=\u001b[36mint\u001b[39;49;00m, default=\u001b[34m500\u001b[39;49;00m)\r\n",
      "    parser.add_argument(\u001b[33m\"\u001b[39;49;00m\u001b[33m--model_name\u001b[39;49;00m\u001b[33m\"\u001b[39;49;00m, \u001b[36mtype\u001b[39;49;00m=\u001b[36mstr\u001b[39;49;00m)\r\n",
      "    parser.add_argument(\u001b[33m\"\u001b[39;49;00m\u001b[33m--tokenizer_name\u001b[39;49;00m\u001b[33m\"\u001b[39;49;00m, \u001b[36mtype\u001b[39;49;00m=\u001b[36mstr\u001b[39;49;00m)\r\n",
      "    parser.add_argument(\u001b[33m\"\u001b[39;49;00m\u001b[33m--learning_rate\u001b[39;49;00m\u001b[33m\"\u001b[39;49;00m, \u001b[36mtype\u001b[39;49;00m=\u001b[36mstr\u001b[39;49;00m, default=\u001b[34m5e-5\u001b[39;49;00m)\r\n",
      "\r\n",
      "    \u001b[37m# Data, model, and output directories\u001b[39;49;00m\r\n",
      "    parser.add_argument(\u001b[33m\"\u001b[39;49;00m\u001b[33m--output-data-dir\u001b[39;49;00m\u001b[33m\"\u001b[39;49;00m, \u001b[36mtype\u001b[39;49;00m=\u001b[36mstr\u001b[39;49;00m, default=os.environ[\u001b[33m\"\u001b[39;49;00m\u001b[33mSM_OUTPUT_DATA_DIR\u001b[39;49;00m\u001b[33m\"\u001b[39;49;00m])\r\n",
      "    parser.add_argument(\u001b[33m\"\u001b[39;49;00m\u001b[33m--model-dir\u001b[39;49;00m\u001b[33m\"\u001b[39;49;00m, \u001b[36mtype\u001b[39;49;00m=\u001b[36mstr\u001b[39;49;00m, default=os.environ[\u001b[33m\"\u001b[39;49;00m\u001b[33mSM_MODEL_DIR\u001b[39;49;00m\u001b[33m\"\u001b[39;49;00m])\r\n",
      "    parser.add_argument(\u001b[33m\"\u001b[39;49;00m\u001b[33m--n_gpus\u001b[39;49;00m\u001b[33m\"\u001b[39;49;00m, \u001b[36mtype\u001b[39;49;00m=\u001b[36mstr\u001b[39;49;00m, default=os.environ[\u001b[33m\"\u001b[39;49;00m\u001b[33mSM_NUM_GPUS\u001b[39;49;00m\u001b[33m\"\u001b[39;49;00m])\r\n",
      "    parser.add_argument(\u001b[33m\"\u001b[39;49;00m\u001b[33m--training_dir\u001b[39;49;00m\u001b[33m\"\u001b[39;49;00m, \u001b[36mtype\u001b[39;49;00m=\u001b[36mstr\u001b[39;49;00m, default=os.environ[\u001b[33m\"\u001b[39;49;00m\u001b[33mSM_CHANNEL_TRAIN\u001b[39;49;00m\u001b[33m\"\u001b[39;49;00m])\r\n",
      "    parser.add_argument(\u001b[33m\"\u001b[39;49;00m\u001b[33m--test_dir\u001b[39;49;00m\u001b[33m\"\u001b[39;49;00m, \u001b[36mtype\u001b[39;49;00m=\u001b[36mstr\u001b[39;49;00m, default=os.environ[\u001b[33m\"\u001b[39;49;00m\u001b[33mSM_CHANNEL_TEST\u001b[39;49;00m\u001b[33m\"\u001b[39;49;00m])\r\n",
      "\r\n",
      "    args, _ = parser.parse_known_args()\r\n",
      "\r\n",
      "    \u001b[37m# Set up logging\u001b[39;49;00m\r\n",
      "    logger = logging.getLogger(\u001b[31m__name__\u001b[39;49;00m)\r\n",
      "\r\n",
      "    logging.basicConfig(\r\n",
      "        level=logging.getLevelName(\u001b[33m\"\u001b[39;49;00m\u001b[33mINFO\u001b[39;49;00m\u001b[33m\"\u001b[39;49;00m),\r\n",
      "        handlers=[logging.StreamHandler(sys.stdout)],\r\n",
      "        \u001b[36mformat\u001b[39;49;00m=\u001b[33m\"\u001b[39;49;00m\u001b[33m%(asctime)s\u001b[39;49;00m\u001b[33m - \u001b[39;49;00m\u001b[33m%(name)s\u001b[39;49;00m\u001b[33m - \u001b[39;49;00m\u001b[33m%(levelname)s\u001b[39;49;00m\u001b[33m - \u001b[39;49;00m\u001b[33m%(message)s\u001b[39;49;00m\u001b[33m\"\u001b[39;49;00m,\r\n",
      "    )\r\n",
      "\r\n",
      "    _train(args)\r\n"
     ]
    }
   ],
   "source": [
    "!pygmentize ./scripts/train.py"
   ]
  },
  {
   "cell_type": "markdown",
   "metadata": {
    "id": "SNuRPZ3w4LUu"
   },
   "source": [
    "## Creating an Estimator and start a training job"
   ]
  },
  {
   "cell_type": "markdown",
   "metadata": {
    "id": "Vg6-K9lL4LUu"
   },
   "source": [
    "Name your training job so you can follow it:"
   ]
  },
  {
   "cell_type": "code",
   "execution_count": 14,
   "metadata": {
    "id": "7j3LqMgo4LUu"
   },
   "outputs": [
    {
     "name": "stdout",
     "output_type": "stream",
     "text": [
      "finetune-distilbert-base-uncased-2022-02-19-07-49-23\n"
     ]
    }
   ],
   "source": [
    "model_name = 'distilbert-base-uncased'\n",
    "import datetime\n",
    "ct = datetime.datetime.now() \n",
    "current_time = str(ct.now()).replace(\":\", \"-\").replace(\" \", \"-\")[:19]\n",
    "training_job_name=f'finetune-{model_name}-{current_time}'\n",
    "print( training_job_name )"
   ]
  },
  {
   "cell_type": "code",
   "execution_count": 15,
   "metadata": {
    "id": "uiIM8woe4LUu"
   },
   "outputs": [],
   "source": [
    "hyperparameters={'epochs': 2,\n",
    "                 'train_batch_size': 32,\n",
    "                 'model_name': model_name,\n",
    "                 'tokenizer_name': tokenizer_name,\n",
    "                 'output_dir':'/opt/ml/checkpoints',\n",
    "                 }"
   ]
  },
  {
   "cell_type": "code",
   "execution_count": 16,
   "metadata": {},
   "outputs": [
    {
     "name": "stdout",
     "output_type": "stream",
     "text": [
      "ls: cannot access /opt/ml/checkpoints: No such file or directory\r\n"
     ]
    }
   ],
   "source": [
    "ls /opt/ml/checkpoints"
   ]
  },
  {
   "cell_type": "code",
   "execution_count": 17,
   "metadata": {
    "id": "7tOzGtpI4LUv"
   },
   "outputs": [],
   "source": [
    "metric_definitions=[\n",
    "    {'Name': 'loss', 'Regex': \"'loss': ([0-9]+(.|e\\-)[0-9]+),?\"},\n",
    "    {'Name': 'learning_rate', 'Regex': \"'learning_rate': ([0-9]+(.|e\\-)[0-9]+),?\"},\n",
    "    {'Name': 'eval_loss', 'Regex': \"'eval_loss': ([0-9]+(.|e\\-)[0-9]+),?\"},\n",
    "    {'Name': 'eval_accuracy', 'Regex': \"'eval_accuracy': ([0-9]+(.|e\\-)[0-9]+),?\"},\n",
    "    {'Name': 'eval_f1', 'Regex': \"'eval_f1': ([0-9]+(.|e\\-)[0-9]+),?\"},\n",
    "    {'Name': 'eval_precision', 'Regex': \"'eval_precision': ([0-9]+(.|e\\-)[0-9]+),?\"},\n",
    "    {'Name': 'eval_recall', 'Regex': \"'eval_recall': ([0-9]+(.|e\\-)[0-9]+),?\"},\n",
    "    {'Name': 'eval_runtime', 'Regex': \"'eval_runtime': ([0-9]+(.|e\\-)[0-9]+),?\"},\n",
    "    {'Name': 'eval_samples_per_second', 'Regex': \"'eval_samples_per_second': ([0-9]+(.|e\\-)[0-9]+),?\"},\n",
    "    {'Name': 'epoch', 'Regex': \"'epoch': ([0-9]+(.|e\\-)[0-9]+),?\"}]"
   ]
  },
  {
   "cell_type": "code",
   "execution_count": 18,
   "metadata": {},
   "outputs": [],
   "source": [
    "use_spot_instances = True\n",
    "max_run=600\n",
    "max_wait = 1200 if use_spot_instances else None"
   ]
  },
  {
   "cell_type": "code",
   "execution_count": 19,
   "metadata": {},
   "outputs": [
    {
     "name": "stdout",
     "output_type": "stream",
     "text": [
      "Checkpointing Path: s3://sagemaker-ap-northeast-1-544200528846/checkpoint-cc6b4baa\n"
     ]
    }
   ],
   "source": [
    "import uuid\n",
    "checkpoint_suffix = str(uuid.uuid4())[:8]\n",
    "checkpoint_s3_path = 's3://{}/checkpoint-{}'.format(sagemaker_session_bucket, checkpoint_suffix)\n",
    "\n",
    "print('Checkpointing Path: {}'.format(checkpoint_s3_path))"
   ]
  },
  {
   "cell_type": "code",
   "execution_count": 20,
   "metadata": {
    "id": "kt2s0jWv4LUv"
   },
   "outputs": [],
   "source": [
    "huggingface_estimator = HuggingFace(entry_point='train.py',\n",
    "                            source_dir='./scripts',\n",
    "                            instance_type='ml.p3.2xlarge',\n",
    "                            instance_count=1,\n",
    "                            role=role,\n",
    "                            transformers_version='4.6', \n",
    "                            pytorch_version='1.7',\n",
    "                            py_version='py36',\n",
    "                            hyperparameters = hyperparameters,\n",
    "                            metric_definitions=metric_definitions,\n",
    "                            checkpoint_s3_uri=checkpoint_s3_path,\n",
    "#                             use_spot_instances=True,\n",
    "                            max_run=max_run, # expected max run in seconds\n",
    "#                             max_wait=max_wait\n",
    "                        )"
   ]
  },
  {
   "cell_type": "markdown",
   "metadata": {
    "id": "JDbpMyKh4LUv"
   },
   "source": [
    "Starts the training job using the estimator fit function:"
   ]
  },
  {
   "cell_type": "code",
   "execution_count": 21,
   "metadata": {
    "id": "r5EfwJOI4LUw"
   },
   "outputs": [],
   "source": [
    "huggingface_estimator.fit({'train': training_input_path, 'test': test_input_path}, wait=False, job_name=training_job_name )"
   ]
  },
  {
   "cell_type": "markdown",
   "metadata": {
    "id": "PJSPuuTR4LUw"
   },
   "source": [
    "Wait for the training to finish. Training takes approximately 10 mins to complete."
   ]
  },
  {
   "cell_type": "code",
   "execution_count": 22,
   "metadata": {
    "id": "8ZIA-Qpn4LUw",
    "scrolled": true
   },
   "outputs": [
    {
     "name": "stdout",
     "output_type": "stream",
     "text": [
      "\n",
      "2022-02-19 07:50:07 Starting - Starting the training job....\n",
      "2022-02-19 07:50:32 Starting - Preparing the instances for training..............\n",
      "2022-02-19 07:51:46 Downloading - Downloading input data..\n",
      "2022-02-19 07:52:02 Training - Downloading the training image.......................................\n",
      "2022-02-19 07:55:23 Training - Training image download completed. Training in progress..............................................\n",
      "2022-02-19 07:59:15 Uploading - Uploading generated training model.......\n",
      "2022-02-19 07:59:55 Completed - Training job completed\n"
     ]
    },
    {
     "data": {
      "text/plain": [
       "{'TrainingJobName': 'finetune-distilbert-base-uncased-2022-02-19-07-49-23',\n",
       " 'TrainingJobArn': 'arn:aws:sagemaker:ap-northeast-1:544200528846:training-job/finetune-distilbert-base-uncased-2022-02-19-07-49-23',\n",
       " 'ModelArtifacts': {'S3ModelArtifacts': 's3://sagemaker-ap-northeast-1-544200528846/finetune-distilbert-base-uncased-2022-02-19-07-49-23/output/model.tar.gz'},\n",
       " 'TrainingJobStatus': 'Completed',\n",
       " 'SecondaryStatus': 'Completed',\n",
       " 'HyperParameters': {'epochs': '2',\n",
       "  'model_name': '\"distilbert-base-uncased\"',\n",
       "  'output_dir': '\"/opt/ml/checkpoints\"',\n",
       "  'sagemaker_container_log_level': '20',\n",
       "  'sagemaker_job_name': '\"finetune-distilbert-base-uncased-2022-02-19-07-49-23\"',\n",
       "  'sagemaker_program': '\"train.py\"',\n",
       "  'sagemaker_region': '\"ap-northeast-1\"',\n",
       "  'sagemaker_submit_directory': '\"s3://sagemaker-ap-northeast-1-544200528846/finetune-distilbert-base-uncased-2022-02-19-07-49-23/source/sourcedir.tar.gz\"',\n",
       "  'tokenizer_name': '\"distilbert-base-cased\"',\n",
       "  'train_batch_size': '32'},\n",
       " 'AlgorithmSpecification': {'TrainingImage': '763104351884.dkr.ecr.ap-northeast-1.amazonaws.com/huggingface-pytorch-training:1.7-transformers4.6-gpu-py36-cu110-ubuntu18.04',\n",
       "  'TrainingInputMode': 'File',\n",
       "  'MetricDefinitions': [{'Name': 'loss',\n",
       "    'Regex': \"'loss': ([0-9]+(.|e\\\\-)[0-9]+),?\"},\n",
       "   {'Name': 'learning_rate',\n",
       "    'Regex': \"'learning_rate': ([0-9]+(.|e\\\\-)[0-9]+),?\"},\n",
       "   {'Name': 'eval_loss', 'Regex': \"'eval_loss': ([0-9]+(.|e\\\\-)[0-9]+),?\"},\n",
       "   {'Name': 'eval_accuracy',\n",
       "    'Regex': \"'eval_accuracy': ([0-9]+(.|e\\\\-)[0-9]+),?\"},\n",
       "   {'Name': 'eval_f1', 'Regex': \"'eval_f1': ([0-9]+(.|e\\\\-)[0-9]+),?\"},\n",
       "   {'Name': 'eval_precision',\n",
       "    'Regex': \"'eval_precision': ([0-9]+(.|e\\\\-)[0-9]+),?\"},\n",
       "   {'Name': 'eval_recall', 'Regex': \"'eval_recall': ([0-9]+(.|e\\\\-)[0-9]+),?\"},\n",
       "   {'Name': 'eval_runtime',\n",
       "    'Regex': \"'eval_runtime': ([0-9]+(.|e\\\\-)[0-9]+),?\"},\n",
       "   {'Name': 'eval_samples_per_second',\n",
       "    'Regex': \"'eval_samples_per_second': ([0-9]+(.|e\\\\-)[0-9]+),?\"},\n",
       "   {'Name': 'epoch', 'Regex': \"'epoch': ([0-9]+(.|e\\\\-)[0-9]+),?\"}],\n",
       "  'EnableSageMakerMetricsTimeSeries': True},\n",
       " 'RoleArn': 'arn:aws:iam::544200528846:role/service-role/AmazonSageMaker-ExecutionRole-20220205T185098',\n",
       " 'InputDataConfig': [{'ChannelName': 'train',\n",
       "   'DataSource': {'S3DataSource': {'S3DataType': 'S3Prefix',\n",
       "     'S3Uri': 's3://sagemaker-ap-northeast-1-544200528846/samples/datasets/imdb/train',\n",
       "     'S3DataDistributionType': 'FullyReplicated'}},\n",
       "   'CompressionType': 'None',\n",
       "   'RecordWrapperType': 'None'},\n",
       "  {'ChannelName': 'test',\n",
       "   'DataSource': {'S3DataSource': {'S3DataType': 'S3Prefix',\n",
       "     'S3Uri': 's3://sagemaker-ap-northeast-1-544200528846/samples/datasets/imdb/test',\n",
       "     'S3DataDistributionType': 'FullyReplicated'}},\n",
       "   'CompressionType': 'None',\n",
       "   'RecordWrapperType': 'None'}],\n",
       " 'OutputDataConfig': {'KmsKeyId': '',\n",
       "  'S3OutputPath': 's3://sagemaker-ap-northeast-1-544200528846/'},\n",
       " 'ResourceConfig': {'InstanceType': 'ml.p3.2xlarge',\n",
       "  'InstanceCount': 1,\n",
       "  'VolumeSizeInGB': 30},\n",
       " 'StoppingCondition': {'MaxRuntimeInSeconds': 600},\n",
       " 'CreationTime': datetime.datetime(2022, 2, 19, 7, 50, 6, 315000, tzinfo=tzlocal()),\n",
       " 'TrainingStartTime': datetime.datetime(2022, 2, 19, 7, 51, 46, 341000, tzinfo=tzlocal()),\n",
       " 'TrainingEndTime': datetime.datetime(2022, 2, 19, 7, 59, 55, 960000, tzinfo=tzlocal()),\n",
       " 'LastModifiedTime': datetime.datetime(2022, 2, 19, 7, 59, 55, 960000, tzinfo=tzlocal()),\n",
       " 'SecondaryStatusTransitions': [{'Status': 'Starting',\n",
       "   'StartTime': datetime.datetime(2022, 2, 19, 7, 50, 6, 315000, tzinfo=tzlocal()),\n",
       "   'EndTime': datetime.datetime(2022, 2, 19, 7, 51, 46, 341000, tzinfo=tzlocal()),\n",
       "   'StatusMessage': 'Preparing the instances for training'},\n",
       "  {'Status': 'Downloading',\n",
       "   'StartTime': datetime.datetime(2022, 2, 19, 7, 51, 46, 341000, tzinfo=tzlocal()),\n",
       "   'EndTime': datetime.datetime(2022, 2, 19, 7, 52, 1, 863000, tzinfo=tzlocal()),\n",
       "   'StatusMessage': 'Downloading input data'},\n",
       "  {'Status': 'Training',\n",
       "   'StartTime': datetime.datetime(2022, 2, 19, 7, 52, 1, 863000, tzinfo=tzlocal()),\n",
       "   'EndTime': datetime.datetime(2022, 2, 19, 7, 59, 15, 305000, tzinfo=tzlocal()),\n",
       "   'StatusMessage': 'Training image download completed. Training in progress.'},\n",
       "  {'Status': 'Uploading',\n",
       "   'StartTime': datetime.datetime(2022, 2, 19, 7, 59, 15, 305000, tzinfo=tzlocal()),\n",
       "   'EndTime': datetime.datetime(2022, 2, 19, 7, 59, 55, 960000, tzinfo=tzlocal()),\n",
       "   'StatusMessage': 'Uploading generated training model'},\n",
       "  {'Status': 'Completed',\n",
       "   'StartTime': datetime.datetime(2022, 2, 19, 7, 59, 55, 960000, tzinfo=tzlocal()),\n",
       "   'EndTime': datetime.datetime(2022, 2, 19, 7, 59, 55, 960000, tzinfo=tzlocal()),\n",
       "   'StatusMessage': 'Training job completed'}],\n",
       " 'FinalMetricDataList': [{'MetricName': 'eval_loss',\n",
       "   'Value': 0.5752843022346497,\n",
       "   'Timestamp': datetime.datetime(2022, 2, 19, 7, 58, 59, tzinfo=tzlocal())},\n",
       "  {'MetricName': 'eval_accuracy',\n",
       "   'Value': 0.703000009059906,\n",
       "   'Timestamp': datetime.datetime(2022, 2, 19, 7, 58, 59, tzinfo=tzlocal())},\n",
       "  {'MetricName': 'eval_f1',\n",
       "   'Value': 0.7267709374427795,\n",
       "   'Timestamp': datetime.datetime(2022, 2, 19, 7, 58, 59, tzinfo=tzlocal())},\n",
       "  {'MetricName': 'eval_precision',\n",
       "   'Value': 0.6507413387298584,\n",
       "   'Timestamp': datetime.datetime(2022, 2, 19, 7, 58, 59, tzinfo=tzlocal())},\n",
       "  {'MetricName': 'eval_recall',\n",
       "   'Value': 0.8229166865348816,\n",
       "   'Timestamp': datetime.datetime(2022, 2, 19, 7, 58, 59, tzinfo=tzlocal())},\n",
       "  {'MetricName': 'eval_runtime',\n",
       "   'Value': 5.047299861907959,\n",
       "   'Timestamp': datetime.datetime(2022, 2, 19, 7, 58, 59, tzinfo=tzlocal())},\n",
       "  {'MetricName': 'eval_samples_per_second',\n",
       "   'Value': 198.1280059814453,\n",
       "   'Timestamp': datetime.datetime(2022, 2, 19, 7, 58, 59, tzinfo=tzlocal())},\n",
       "  {'MetricName': 'epoch',\n",
       "   'Value': 2.0,\n",
       "   'Timestamp': datetime.datetime(2022, 2, 19, 7, 58, 59, tzinfo=tzlocal())}],\n",
       " 'EnableNetworkIsolation': False,\n",
       " 'EnableInterContainerTrafficEncryption': False,\n",
       " 'EnableManagedSpotTraining': False,\n",
       " 'CheckpointConfig': {'S3Uri': 's3://sagemaker-ap-northeast-1-544200528846/checkpoint-cc6b4baa'},\n",
       " 'TrainingTimeInSeconds': 489,\n",
       " 'BillableTimeInSeconds': 489,\n",
       " 'DebugHookConfig': {'S3OutputPath': 's3://sagemaker-ap-northeast-1-544200528846/',\n",
       "  'CollectionConfigurations': []},\n",
       " 'ProfilerConfig': {'S3OutputPath': 's3://sagemaker-ap-northeast-1-544200528846/',\n",
       "  'ProfilingIntervalInMilliseconds': 500},\n",
       " 'ProfilerRuleConfigurations': [{'RuleConfigurationName': 'ProfilerReport-1645257005',\n",
       "   'RuleEvaluatorImage': '430734990657.dkr.ecr.ap-northeast-1.amazonaws.com/sagemaker-debugger-rules:latest',\n",
       "   'VolumeSizeInGB': 0,\n",
       "   'RuleParameters': {'rule_to_invoke': 'ProfilerReport'}}],\n",
       " 'ProfilerRuleEvaluationStatuses': [{'RuleConfigurationName': 'ProfilerReport-1645257005',\n",
       "   'RuleEvaluationJobArn': 'arn:aws:sagemaker:ap-northeast-1:544200528846:processing-job/finetune-distilbert-base-u-profilerreport-1645257005-da5a0df8',\n",
       "   'RuleEvaluationStatus': 'InProgress',\n",
       "   'LastModifiedTime': datetime.datetime(2022, 2, 19, 7, 59, 53, 321000, tzinfo=tzlocal())}],\n",
       " 'ProfilingStatus': 'Enabled',\n",
       " 'ResponseMetadata': {'RequestId': '8c98d128-7248-4ca0-974d-eb7115588307',\n",
       "  'HTTPStatusCode': 200,\n",
       "  'HTTPHeaders': {'x-amzn-requestid': '8c98d128-7248-4ca0-974d-eb7115588307',\n",
       "   'content-type': 'application/x-amz-json-1.1',\n",
       "   'content-length': '5649',\n",
       "   'date': 'Sat, 19 Feb 2022 07:59:57 GMT'},\n",
       "  'RetryAttempts': 0}}"
      ]
     },
     "execution_count": 22,
     "metadata": {},
     "output_type": "execute_result"
    }
   ],
   "source": [
    "sess.wait_for_job(training_job_name)"
   ]
  },
  {
   "cell_type": "markdown",
   "metadata": {
    "id": "O8wH6ZeE4LUw"
   },
   "source": [
    "## Training metrics\n",
    "You can now display the training metrics"
   ]
  },
  {
   "cell_type": "code",
   "execution_count": 23,
   "metadata": {
    "id": "qQfP0FaN4LUx"
   },
   "outputs": [
    {
     "name": "stderr",
     "output_type": "stream",
     "text": [
      "Warning: No metrics called loss found\n",
      "Warning: No metrics called learning_rate found\n"
     ]
    },
    {
     "data": {
      "text/html": [
       "<div>\n",
       "<style scoped>\n",
       "    .dataframe tbody tr th:only-of-type {\n",
       "        vertical-align: middle;\n",
       "    }\n",
       "\n",
       "    .dataframe tbody tr th {\n",
       "        vertical-align: top;\n",
       "    }\n",
       "\n",
       "    .dataframe thead th {\n",
       "        text-align: right;\n",
       "    }\n",
       "</style>\n",
       "<table border=\"1\" class=\"dataframe\">\n",
       "  <thead>\n",
       "    <tr style=\"text-align: right;\">\n",
       "      <th></th>\n",
       "      <th>timestamp</th>\n",
       "      <th>metric_name</th>\n",
       "      <th>value</th>\n",
       "    </tr>\n",
       "  </thead>\n",
       "  <tbody>\n",
       "    <tr>\n",
       "      <th>0</th>\n",
       "      <td>0.0</td>\n",
       "      <td>eval_loss</td>\n",
       "      <td>0.695961</td>\n",
       "    </tr>\n",
       "    <tr>\n",
       "      <th>1</th>\n",
       "      <td>120.0</td>\n",
       "      <td>eval_loss</td>\n",
       "      <td>0.575284</td>\n",
       "    </tr>\n",
       "    <tr>\n",
       "      <th>2</th>\n",
       "      <td>0.0</td>\n",
       "      <td>eval_accuracy</td>\n",
       "      <td>0.498000</td>\n",
       "    </tr>\n",
       "    <tr>\n",
       "      <th>3</th>\n",
       "      <td>120.0</td>\n",
       "      <td>eval_accuracy</td>\n",
       "      <td>0.703000</td>\n",
       "    </tr>\n",
       "    <tr>\n",
       "      <th>4</th>\n",
       "      <td>0.0</td>\n",
       "      <td>eval_f1</td>\n",
       "      <td>0.639885</td>\n",
       "    </tr>\n",
       "    <tr>\n",
       "      <th>5</th>\n",
       "      <td>120.0</td>\n",
       "      <td>eval_f1</td>\n",
       "      <td>0.726771</td>\n",
       "    </tr>\n",
       "    <tr>\n",
       "      <th>6</th>\n",
       "      <td>0.0</td>\n",
       "      <td>eval_precision</td>\n",
       "      <td>0.487965</td>\n",
       "    </tr>\n",
       "    <tr>\n",
       "      <th>7</th>\n",
       "      <td>120.0</td>\n",
       "      <td>eval_precision</td>\n",
       "      <td>0.650741</td>\n",
       "    </tr>\n",
       "    <tr>\n",
       "      <th>8</th>\n",
       "      <td>0.0</td>\n",
       "      <td>eval_recall</td>\n",
       "      <td>0.929167</td>\n",
       "    </tr>\n",
       "    <tr>\n",
       "      <th>9</th>\n",
       "      <td>120.0</td>\n",
       "      <td>eval_recall</td>\n",
       "      <td>0.822917</td>\n",
       "    </tr>\n",
       "  </tbody>\n",
       "</table>\n",
       "</div>"
      ],
      "text/plain": [
       "   timestamp     metric_name     value\n",
       "0        0.0       eval_loss  0.695961\n",
       "1      120.0       eval_loss  0.575284\n",
       "2        0.0   eval_accuracy  0.498000\n",
       "3      120.0   eval_accuracy  0.703000\n",
       "4        0.0         eval_f1  0.639885\n",
       "5      120.0         eval_f1  0.726771\n",
       "6        0.0  eval_precision  0.487965\n",
       "7      120.0  eval_precision  0.650741\n",
       "8        0.0     eval_recall  0.929167\n",
       "9      120.0     eval_recall  0.822917"
      ]
     },
     "execution_count": 23,
     "metadata": {},
     "output_type": "execute_result"
    }
   ],
   "source": [
    "from sagemaker import TrainingJobAnalytics\n",
    "\n",
    "# Captured metrics can be accessed as a Pandas dataframe\n",
    "df = TrainingJobAnalytics(training_job_name=training_job_name).dataframe()\n",
    "df.head(10)"
   ]
  },
  {
   "cell_type": "markdown",
   "metadata": {
    "id": "6UtbyTI84LUx"
   },
   "source": [
    "And plot the collected metrics"
   ]
  },
  {
   "cell_type": "code",
   "execution_count": 25,
   "metadata": {
    "id": "t2X-w4gw4LUx"
   },
   "outputs": [
    {
     "data": {
      "text/plain": [
       "<AxesSubplot:label='91939b0c-d09b-4ca2-ae21-191a48ada2d1', xlabel='timestamp', ylabel='value'>"
      ]
     },
     "execution_count": 25,
     "metadata": {},
     "output_type": "execute_result"
    },
    {
     "data": {
      "image/png": "[encoded data removed]",
      "text/plain": [
       "<Figure size 1224x576 with 2 Axes>"
      ]
     },
     "metadata": {
      "image/png": {
       "height": 489,
       "width": 1076
      }
     },
     "output_type": "display_data"
    }
   ],
   "source": [
    "evals = df[df.metric_name.isin(['eval_accuracy','eval_precision', 'eval_f1'])]\n",
    "losses = df[df.metric_name.isin([ 'eval_loss'])]\n",
    "\n",
    "sns.lineplot(\n",
    "    x='timestamp', \n",
    "    y='value', \n",
    "    data=evals, \n",
    "    style='metric_name',\n",
    "    markers=True,\n",
    "    hue='metric_name'\n",
    ")\n",
    "\n",
    "ax2 = plt.twinx()\n",
    "sns.lineplot(\n",
    "    x='timestamp', \n",
    "    y='value', \n",
    "    data=losses, \n",
    "    hue='metric_name',\n",
    "    ax=ax2)"
   ]
  },
  {
   "cell_type": "markdown",
   "metadata": {
    "id": "ke9eX_5b4LUx"
   },
   "source": [
    "# Endpoint"
   ]
  },
  {
   "cell_type": "markdown",
   "metadata": {
    "id": "fuuDCXT84LUy"
   },
   "source": [
    "You can now proceed and create an endpoint with the trained model."
   ]
  },
  {
   "cell_type": "code",
   "execution_count": 26,
   "metadata": {
    "id": "EEu0w6V_4LUy"
   },
   "outputs": [
    {
     "name": "stdout",
     "output_type": "stream",
     "text": [
      "-----!"
     ]
    }
   ],
   "source": [
    "predictor = huggingface_estimator.deploy(initial_instance_count=1, instance_type=\"ml.m5.xlarge\", endpoint_name=training_job_name)"
   ]
  },
  {
   "cell_type": "markdown",
   "metadata": {
    "id": "_c-3lIXH4LUz"
   },
   "source": [
    "After the endpoint is deployed you can run a prediction. `LABEL_0` indicates a negative review, `LABEL_1` indicates a positive review, and score corresponds to the probability of each label."
   ]
  },
  {
   "cell_type": "code",
   "execution_count": 28,
   "metadata": {
    "id": "PN4RfJrI4LUz"
   },
   "outputs": [
    {
     "data": {
      "text/plain": [
       "[{'label': 'LABEL_0', 'score': 0.5139924883842468},\n",
       " {'label': 'LABEL_1', 'score': 0.5747136473655701},\n",
       " {'label': 'LABEL_1', 'score': 0.5751662850379944}]"
      ]
     },
     "execution_count": 28,
     "metadata": {},
     "output_type": "execute_result"
    }
   ],
   "source": [
    "data = {\n",
    "   \"inputs\": [\n",
    "       \"Good movie!\",\n",
    "       \"The movie is not good at all\",\n",
    "       \"Story is good, but quality is poor\"\n",
    "   ]\n",
    "}\n",
    "\n",
    "# request\n",
    "predictor.predict(data)"
   ]
  },
  {
   "cell_type": "markdown",
   "metadata": {
    "id": "sglv1ayD4LUz"
   },
   "source": [
    "# Cleanup\n",
    "After you are finished experimenting with this notebook, run the following cell to delete the predictor."
   ]
  },
  {
   "cell_type": "code",
   "execution_count": 29,
   "metadata": {
    "id": "VfSHAKLj4LUz"
   },
   "outputs": [],
   "source": [
    "predictor.delete_endpoint()"
   ]
  },
  {
   "cell_type": "code",
   "execution_count": null,
   "metadata": {},
   "outputs": [],
   "source": []
  }
 ],
 "metadata": {
  "colab": {
   "name": "finetune-distilbert.ipynb",
   "provenance": []
  },
  "instance_type": "ml.m5.large",
  "kernelspec": {
   "display_name": "conda_pytorch_latest_p36",
   "language": "python",
   "name": "conda_pytorch_latest_p36"
  },
  "language_info": {
   "codemirror_mode": {
    "name": "ipython",
    "version": 3
   },
   "file_extension": ".py",
   "mimetype": "text/x-python",
   "name": "python",
   "nbconvert_exporter": "python",
   "pygments_lexer": "ipython3",
   "version": "3.6.13"
  }
 },
 "nbformat": 4,
 "nbformat_minor": 1
}
