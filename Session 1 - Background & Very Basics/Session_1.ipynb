{
  "nbformat": 4,
  "nbformat_minor": 0,
  "metadata": {
    "colab": {
      "name": "END2.0 Session 1.ipynb",
      "provenance": [],
      "include_colab_link": true
    },
    "kernelspec": {
      "name": "python3",
      "display_name": "Python 3"
    },
    "language_info": {
      "name": "python"
    }
  },
  "cells": [
    {
      "cell_type": "markdown",
      "metadata": {
        "id": "view-in-github",
        "colab_type": "text"
      },
      "source": [
        "<a href=\"https://colab.research.google.com/github/m-shilpa/END3/blob/main/Session%201%20-%20Background%20%26%20Very%20Basics/Session_1.ipynb\" target=\"_parent\"><img src=\"https://colab.research.google.com/assets/colab-badge.svg\" alt=\"Open In Colab\"/></a>"
      ]
    },
    {
      "cell_type": "code",
      "metadata": {
        "colab": {
          "base_uri": "https://localhost:8080/"
        },
        "id": "GC_6PeobwwkH",
        "outputId": "a0f55ee1-73f4-48ea-94f7-4185b4a51e07"
      },
      "source": [
        "import torch\n",
        "from torch.autograd import Variable\n",
        "import torch.nn as nn\n",
        "import torch.nn.functional as F\n",
        "import torch.optim as optim\n",
        "import numpy as np\n",
        "import matplotlib.pyplot as plt\n",
        "%matplotlib inline\n",
        "torch.manual_seed(2)"
      ],
      "execution_count": 1,
      "outputs": [
        {
          "output_type": "execute_result",
          "data": {
            "text/plain": [
              "<torch._C.Generator at 0x7f90fa6fed70>"
            ]
          },
          "metadata": {},
          "execution_count": 1
        }
      ]
    },
    {
      "cell_type": "code",
      "metadata": {
        "id": "bL64bMTkw2GP"
      },
      "source": [
        "X = torch.Tensor([[0,0], [0,1], [1,0], [1,1]])\n",
        "Y = torch.Tensor([0, 1, 1, 0]).view(-1,1)"
      ],
      "execution_count": 2,
      "outputs": []
    },
    {
      "cell_type": "code",
      "metadata": {
        "id": "aC82kEAIw3Wf"
      },
      "source": [
        "class XOR(nn.Module):\n",
        "    def __init__(self, input_dim = 2, output_dim=1):\n",
        "        super(XOR, self).__init__()\n",
        "        self.lin1 = nn.Linear(input_dim, 5)\n",
        "        self.lin2 = nn.Linear(5, 3)\n",
        "        self.lin3 = nn.Linear(3, 2)\n",
        "        self.lin4 = nn.Linear(2, output_dim)\n",
        "    \n",
        "    def forward(self, x):\n",
        "        x = self.lin1(x)\n",
        "        x = F.tanh(x)\n",
        "        x = self.lin2(x)\n",
        "        x = F.tanh(x)\n",
        "        x = self.lin3(x)\n",
        "        x = F.tanh(x)\n",
        "        x = self.lin4(x)\n",
        "        x = F.tanh(x)\n",
        "        return x"
      ],
      "execution_count": 3,
      "outputs": []
    },
    {
      "cell_type": "code",
      "metadata": {
        "colab": {
          "base_uri": "https://localhost:8080/"
        },
        "id": "8gQIQExYw65K",
        "outputId": "bfb7563a-26c7-4be1-89f2-53f1c1421d52"
      },
      "source": [
        "model = XOR()\n",
        "print(model)\n",
        "from torchsummary import summary\n",
        "summary(model, (2,2))"
      ],
      "execution_count": 4,
      "outputs": [
        {
          "output_type": "stream",
          "name": "stdout",
          "text": [
            "XOR(\n",
            "  (lin1): Linear(in_features=2, out_features=5, bias=True)\n",
            "  (lin2): Linear(in_features=5, out_features=3, bias=True)\n",
            "  (lin3): Linear(in_features=3, out_features=2, bias=True)\n",
            "  (lin4): Linear(in_features=2, out_features=1, bias=True)\n",
            ")\n",
            "----------------------------------------------------------------\n",
            "        Layer (type)               Output Shape         Param #\n",
            "================================================================\n",
            "            Linear-1                 [-1, 2, 5]              15\n",
            "            Linear-2                 [-1, 2, 3]              18\n",
            "            Linear-3                 [-1, 2, 2]               8\n",
            "            Linear-4                 [-1, 2, 1]               3\n",
            "================================================================\n",
            "Total params: 44\n",
            "Trainable params: 44\n",
            "Non-trainable params: 0\n",
            "----------------------------------------------------------------\n",
            "Input size (MB): 0.00\n",
            "Forward/backward pass size (MB): 0.00\n",
            "Params size (MB): 0.00\n",
            "Estimated Total Size (MB): 0.00\n",
            "----------------------------------------------------------------\n"
          ]
        },
        {
          "output_type": "stream",
          "name": "stderr",
          "text": [
            "/usr/local/lib/python3.7/dist-packages/torch/nn/functional.py:1794: UserWarning: nn.functional.tanh is deprecated. Use torch.tanh instead.\n",
            "  warnings.warn(\"nn.functional.tanh is deprecated. Use torch.tanh instead.\")\n"
          ]
        }
      ]
    },
    {
      "cell_type": "markdown",
      "metadata": {
        "id": "O5yJIQaQfyXA"
      },
      "source": [
        "**Parameters Calculation**\n",
        "\n",
        "| Layer         | Input Weights | Output Weights | No. of bias | Calculation |\n",
        "| -----------   | :---------:   |  :---------:   | :---------: | :---------: |\n",
        "| Linear-1      |    2          |    5           |      5      | 2*5+5 = 15  | \n",
        "| Linear-2      |    5          |    3           |      3      | 5*3+3 = 18  | \n",
        "| Linear-3      |    3          |    2           |      2      | 3*2+2 = 8   | \n",
        "| Linear-4      |    2          |    1           |      1      | 2*1+1 = 3   | "
      ]
    },
    {
      "cell_type": "code",
      "metadata": {
        "id": "yeotEq19x6XF"
      },
      "source": [
        "def weights_init(model):\n",
        "    for m in model.modules():\n",
        "        if isinstance(m, nn.Linear):\n",
        "            # initialize the weight tensor, here we use a normal distribution\n",
        "            m.weight.data.normal_(0, 1)\n",
        "\n",
        "weights_init(model)"
      ],
      "execution_count": 5,
      "outputs": []
    },
    {
      "cell_type": "code",
      "metadata": {
        "id": "WrD_sNzLx78e"
      },
      "source": [
        "loss_func = nn.L1Loss()"
      ],
      "execution_count": 6,
      "outputs": []
    },
    {
      "cell_type": "code",
      "metadata": {
        "id": "-zvbrMd2x_lA"
      },
      "source": [
        "optimizer = optim.SGD(model.parameters(), lr=0.02, momentum=0.9)\n"
      ],
      "execution_count": 7,
      "outputs": []
    },
    {
      "cell_type": "code",
      "metadata": {
        "colab": {
          "base_uri": "https://localhost:8080/"
        },
        "id": "q7tWa3D7yA5X",
        "outputId": "875c36d9-0207-48ee-a4d8-62982fe4e715"
      },
      "source": [
        "epochs = 2002\n",
        "steps = X.size(0)\n",
        "for i in range(epochs):\n",
        "    for j in range(steps):\n",
        "        data_point = np.random.randint(X.size(0))\n",
        "        x_var = Variable(X[data_point], requires_grad=False)\n",
        "        y_var = Variable(Y[data_point], requires_grad=False)\n",
        "        \n",
        "        optimizer.zero_grad()\n",
        "        y_hat = model(x_var)\n",
        "        loss = loss_func.forward(y_hat, y_var)\n",
        "        loss.backward()\n",
        "        optimizer.step()\n",
        "        \n",
        "    if i % 50 == 0:\n",
        "        print( \"Epoch: {0}, Loss: {1}, \".format(i, loss.data.numpy()))\n",
        "print( \"Epoch: {0}, Loss: {1}, \".format(i, loss.data.numpy()))"
      ],
      "execution_count": 8,
      "outputs": [
        {
          "output_type": "stream",
          "name": "stdout",
          "text": [
            "Epoch: 0, Loss: 0.07332222908735275, \n"
          ]
        },
        {
          "output_type": "stream",
          "name": "stderr",
          "text": [
            "/usr/local/lib/python3.7/dist-packages/torch/nn/functional.py:1794: UserWarning: nn.functional.tanh is deprecated. Use torch.tanh instead.\n",
            "  warnings.warn(\"nn.functional.tanh is deprecated. Use torch.tanh instead.\")\n"
          ]
        },
        {
          "output_type": "stream",
          "name": "stdout",
          "text": [
            "Epoch: 50, Loss: 0.06385743618011475, \n",
            "Epoch: 100, Loss: 0.36522409319877625, \n",
            "Epoch: 150, Loss: 0.0020450353622436523, \n",
            "Epoch: 200, Loss: 0.23121696710586548, \n",
            "Epoch: 250, Loss: 0.0014090538024902344, \n",
            "Epoch: 300, Loss: 0.0022292137145996094, \n",
            "Epoch: 350, Loss: 0.13349850475788116, \n",
            "Epoch: 400, Loss: 0.06561719626188278, \n",
            "Epoch: 450, Loss: 0.0012502670288085938, \n",
            "Epoch: 500, Loss: 0.0005360245704650879, \n",
            "Epoch: 550, Loss: 0.0009936690330505371, \n",
            "Epoch: 600, Loss: 0.5252889394760132, \n",
            "Epoch: 650, Loss: 0.0003852248191833496, \n",
            "Epoch: 700, Loss: 0.19453808665275574, \n",
            "Epoch: 750, Loss: 0.0006802082061767578, \n",
            "Epoch: 800, Loss: 0.0004401206970214844, \n",
            "Epoch: 850, Loss: 0.07172343134880066, \n",
            "Epoch: 900, Loss: 0.13445495069026947, \n",
            "Epoch: 950, Loss: 0.0005261898040771484, \n",
            "Epoch: 1000, Loss: 0.047058384865522385, \n",
            "Epoch: 1050, Loss: 0.0002675056457519531, \n",
            "Epoch: 1100, Loss: 0.000668644905090332, \n",
            "Epoch: 1150, Loss: 0.00024950504302978516, \n",
            "Epoch: 1200, Loss: 0.039187803864479065, \n",
            "Epoch: 1250, Loss: 0.0010645553702488542, \n",
            "Epoch: 1300, Loss: 0.0652424618601799, \n",
            "Epoch: 1350, Loss: 0.10501646250486374, \n",
            "Epoch: 1400, Loss: 0.19224244356155396, \n",
            "Epoch: 1450, Loss: 0.0002651810646057129, \n",
            "Epoch: 1500, Loss: 0.18602919578552246, \n",
            "Epoch: 1550, Loss: 0.0002155303955078125, \n",
            "Epoch: 1600, Loss: 0.018808500841259956, \n",
            "Epoch: 1650, Loss: 0.606484055519104, \n",
            "Epoch: 1700, Loss: 0.0005285143852233887, \n",
            "Epoch: 1750, Loss: 0.0003533363342285156, \n",
            "Epoch: 1800, Loss: 0.0002600550651550293, \n",
            "Epoch: 1850, Loss: 0.00012695789337158203, \n",
            "Epoch: 1900, Loss: 0.04143233969807625, \n",
            "Epoch: 1950, Loss: 0.08299575746059418, \n",
            "Epoch: 2000, Loss: 0.0002957582473754883, \n",
            "Epoch: 2001, Loss: 0.0002505183219909668, \n"
          ]
        }
      ]
    },
    {
      "cell_type": "markdown",
      "metadata": {
        "id": "j_LZrEq8n0rz"
      },
      "source": [
        "**References:** http://www.sharetechnote.com/html/Python_PyTorch_nn_Linear_01.html"
      ]
    }
  ]
}