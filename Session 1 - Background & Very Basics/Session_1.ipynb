{
  "nbformat": 4,
  "nbformat_minor": 0,
  "metadata": {
    "colab": {
      "name": "END2.0 Session 1.ipynb",
      "provenance": [],
      "include_colab_link": true
    },
    "kernelspec": {
      "name": "python3",
      "display_name": "Python 3"
    },
    "language_info": {
      "name": "python"
    }
  },
  "cells": [
    {
      "cell_type": "markdown",
      "metadata": {
        "id": "view-in-github",
        "colab_type": "text"
      },
      "source": [
        "<a href=\"https://colab.research.google.com/github/m-shilpa/END3/blob/main/Session%201%20-%20Background%20%26%20Very%20Basics/Session_1.ipynb\" target=\"_parent\"><img src=\"https://colab.research.google.com/assets/colab-badge.svg\" alt=\"Open In Colab\"/></a>"
      ]
    },
    {
      "cell_type": "code",
      "metadata": {
        "id": "Z2jzymRAnOB7"
      },
      "source": [
        ""
      ],
      "execution_count": null,
      "outputs": []
    },
    {
      "cell_type": "markdown",
      "metadata": {
        "id": "gkMYI9HWna-p"
      },
      "source": [
        "Assignment:\n",
        "\n",
        "Rewrite the Colab file and:\n",
        "\n",
        "remove the last activation function\n",
        "\n",
        "make sure there are in total 44 parameters\n",
        "\n",
        "run it for 2001 epochs\n"
      ]
    },
    {
      "cell_type": "code",
      "metadata": {
        "colab": {
          "base_uri": "https://localhost:8080/"
        },
        "id": "GC_6PeobwwkH",
        "outputId": "f5c21cc7-92ac-46f5-9957-c41af4340a80"
      },
      "source": [
        "import torch\n",
        "from torch.autograd import Variable\n",
        "import torch.nn as nn\n",
        "import torch.nn.functional as F\n",
        "import torch.optim as optim\n",
        "import numpy as np\n",
        "import matplotlib.pyplot as plt\n",
        "%matplotlib inline\n",
        "torch.manual_seed(2)"
      ],
      "execution_count": 3,
      "outputs": [
        {
          "output_type": "execute_result",
          "data": {
            "text/plain": [
              "<torch._C.Generator at 0x7f3e1b95aa90>"
            ]
          },
          "metadata": {},
          "execution_count": 3
        }
      ]
    },
    {
      "cell_type": "code",
      "metadata": {
        "id": "bL64bMTkw2GP"
      },
      "source": [
        "X = torch.Tensor([[0,0], [0,1], [1,0], [1,1]])\n",
        "Y = torch.Tensor([0, 1, 1, 0]).view(-1,1)"
      ],
      "execution_count": 4,
      "outputs": []
    },
    {
      "cell_type": "code",
      "metadata": {
        "id": "aC82kEAIw3Wf"
      },
      "source": [
        "class XOR(nn.Module):\n",
        "    def __init__(self, input_dim = 2, output_dim=1):\n",
        "        super(XOR, self).__init__()\n",
        "        self.lin1 = nn.Linear(input_dim, 5)\n",
        "        self.lin2 = nn.Linear(5, 3)\n",
        "        self.lin3 = nn.Linear(3, 2)\n",
        "        self.lin4 = nn.Linear(2, output_dim)\n",
        "    \n",
        "    def forward(self, x):\n",
        "        x = self.lin1(x)\n",
        "        x = F.tanh(x)\n",
        "        x = self.lin2(x)\n",
        "        x = F.tanh(x)\n",
        "        x = self.lin3(x)\n",
        "        x = F.tanh(x)\n",
        "        x = self.lin4(x)\n",
        "        #x = F.tanh(x). removed last activation function.\n",
        "        return x"
      ],
      "execution_count": 5,
      "outputs": []
    },
    {
      "cell_type": "code",
      "metadata": {
        "colab": {
          "base_uri": "https://localhost:8080/"
        },
        "id": "8gQIQExYw65K",
        "outputId": "5fcdaf50-1686-4a97-e0b1-c16519ec0358"
      },
      "source": [
        "model = XOR()\n",
        "print(model)\n",
        "from torchsummary import summary\n",
        "summary(model, (2,2))"
      ],
      "execution_count": 6,
      "outputs": [
        {
          "output_type": "stream",
          "name": "stdout",
          "text": [
            "XOR(\n",
            "  (lin1): Linear(in_features=2, out_features=5, bias=True)\n",
            "  (lin2): Linear(in_features=5, out_features=3, bias=True)\n",
            "  (lin3): Linear(in_features=3, out_features=2, bias=True)\n",
            "  (lin4): Linear(in_features=2, out_features=1, bias=True)\n",
            ")\n",
            "----------------------------------------------------------------\n",
            "        Layer (type)               Output Shape         Param #\n",
            "================================================================\n",
            "            Linear-1                 [-1, 2, 5]              15\n",
            "            Linear-2                 [-1, 2, 3]              18\n",
            "            Linear-3                 [-1, 2, 2]               8\n",
            "            Linear-4                 [-1, 2, 1]               3\n",
            "================================================================\n",
            "Total params: 44\n",
            "Trainable params: 44\n",
            "Non-trainable params: 0\n",
            "----------------------------------------------------------------\n",
            "Input size (MB): 0.00\n",
            "Forward/backward pass size (MB): 0.00\n",
            "Params size (MB): 0.00\n",
            "Estimated Total Size (MB): 0.00\n",
            "----------------------------------------------------------------\n"
          ]
        },
        {
          "output_type": "stream",
          "name": "stderr",
          "text": [
            "/usr/local/lib/python3.7/dist-packages/torch/nn/functional.py:1794: UserWarning: nn.functional.tanh is deprecated. Use torch.tanh instead.\n",
            "  warnings.warn(\"nn.functional.tanh is deprecated. Use torch.tanh instead.\")\n"
          ]
        }
      ]
    },
    {
      "cell_type": "markdown",
      "metadata": {
        "id": "O5yJIQaQfyXA"
      },
      "source": [
        "**Parameters Calculation**\n",
        "\n",
        "| Layer         | Input Weights | Output Weights | No. of bias | Calculation |\n",
        "| -----------   | :---------:   |  :---------:   | :---------: | :---------: |\n",
        "| Linear-1      |    2          |    5           |      5      | 2*5+5 = 15  | \n",
        "| Linear-2      |    5          |    3           |      3      | 5*3+3 = 18  | \n",
        "| Linear-3      |    3          |    2           |      2      | 3*2+2 = 8   | \n",
        "| Linear-4      |    2          |    1           |      1      | 2*1+1 = 3   | "
      ]
    },
    {
      "cell_type": "code",
      "metadata": {
        "id": "yeotEq19x6XF"
      },
      "source": [
        "def weights_init(model):\n",
        "    for m in model.modules():\n",
        "        if isinstance(m, nn.Linear):\n",
        "            # initialize the weight tensor, here we use a normal distribution\n",
        "            m.weight.data.normal_(0, 1)\n",
        "\n",
        "weights_init(model)"
      ],
      "execution_count": 7,
      "outputs": []
    },
    {
      "cell_type": "code",
      "metadata": {
        "id": "WrD_sNzLx78e"
      },
      "source": [
        "loss_func = nn.L1Loss()"
      ],
      "execution_count": 8,
      "outputs": []
    },
    {
      "cell_type": "code",
      "metadata": {
        "id": "-zvbrMd2x_lA"
      },
      "source": [
        "optimizer = optim.SGD(model.parameters(), lr=0.02, momentum=0.9)\n"
      ],
      "execution_count": 9,
      "outputs": []
    },
    {
      "cell_type": "code",
      "metadata": {
        "colab": {
          "base_uri": "https://localhost:8080/"
        },
        "id": "q7tWa3D7yA5X",
        "outputId": "54bf9a6c-eb8b-4b7d-9a94-8ffa1465dbda"
      },
      "source": [
        "epochs = 2002\n",
        "steps = X.size(0)\n",
        "for i in range(epochs):\n",
        "    for j in range(steps):\n",
        "        data_point = np.random.randint(X.size(0))\n",
        "        x_var = Variable(X[data_point], requires_grad=False)\n",
        "        y_var = Variable(Y[data_point], requires_grad=False)\n",
        "        \n",
        "        optimizer.zero_grad()\n",
        "        y_hat = model(x_var)\n",
        "        loss = loss_func.forward(y_hat, y_var)\n",
        "        loss.backward()\n",
        "        optimizer.step()\n",
        "        \n",
        "    if i % 50 == 0:\n",
        "        print( \"Epoch: {0}, Loss: {1}, \".format(i, loss.data.numpy()))\n",
        "print( \"Epoch: {0}, Loss: {1}, \".format(i, loss.data.numpy()))"
      ],
      "execution_count": 16,
      "outputs": [
        {
          "output_type": "stream",
          "name": "stderr",
          "text": [
            "/usr/local/lib/python3.7/dist-packages/torch/nn/functional.py:1794: UserWarning: nn.functional.tanh is deprecated. Use torch.tanh instead.\n",
            "  warnings.warn(\"nn.functional.tanh is deprecated. Use torch.tanh instead.\")\n"
          ]
        },
        {
          "output_type": "stream",
          "name": "stdout",
          "text": [
            "Epoch: 0, Loss: 0.12240481376647949, \n",
            "Epoch: 50, Loss: 0.03277707099914551, \n",
            "Epoch: 100, Loss: 0.3673659563064575, \n",
            "Epoch: 150, Loss: 0.053664207458496094, \n",
            "Epoch: 200, Loss: 0.14651930332183838, \n",
            "Epoch: 250, Loss: 0.08141326904296875, \n",
            "Epoch: 300, Loss: 0.16773200035095215, \n",
            "Epoch: 350, Loss: 0.046479105949401855, \n",
            "Epoch: 400, Loss: 0.04280015826225281, \n",
            "Epoch: 450, Loss: 0.788168728351593, \n",
            "Epoch: 500, Loss: 0.02422398328781128, \n",
            "Epoch: 550, Loss: 0.01360231637954712, \n",
            "Epoch: 600, Loss: 0.1166442334651947, \n",
            "Epoch: 650, Loss: 0.020187556743621826, \n",
            "Epoch: 700, Loss: 0.19637960195541382, \n",
            "Epoch: 750, Loss: 0.01113051176071167, \n",
            "Epoch: 800, Loss: 0.08220911026000977, \n",
            "Epoch: 850, Loss: 0.018514156341552734, \n",
            "Epoch: 900, Loss: 0.2532123029232025, \n",
            "Epoch: 950, Loss: 0.39796918630599976, \n",
            "Epoch: 1000, Loss: 0.09229552745819092, \n",
            "Epoch: 1050, Loss: 0.19914859533309937, \n",
            "Epoch: 1100, Loss: 0.27416929602622986, \n",
            "Epoch: 1150, Loss: 0.06843352317810059, \n",
            "Epoch: 1200, Loss: 0.062458038330078125, \n",
            "Epoch: 1250, Loss: 0.05684483051300049, \n",
            "Epoch: 1300, Loss: 0.12460646033287048, \n",
            "Epoch: 1350, Loss: 0.009309649467468262, \n",
            "Epoch: 1400, Loss: 0.11809462308883667, \n",
            "Epoch: 1450, Loss: 0.005753904581069946, \n",
            "Epoch: 1500, Loss: 0.1504732370376587, \n",
            "Epoch: 1550, Loss: 0.020113825798034668, \n",
            "Epoch: 1600, Loss: 0.000978231430053711, \n",
            "Epoch: 1650, Loss: 0.14928805828094482, \n",
            "Epoch: 1700, Loss: 0.06431043148040771, \n",
            "Epoch: 1750, Loss: 0.10729503631591797, \n",
            "Epoch: 1800, Loss: 0.0420682430267334, \n",
            "Epoch: 1850, Loss: 0.09245312213897705, \n",
            "Epoch: 1900, Loss: 0.17837202548980713, \n",
            "Epoch: 1950, Loss: 0.05475950241088867, \n",
            "Epoch: 2000, Loss: 0.3070712089538574, \n",
            "Epoch: 2001, Loss: 0.07478612661361694, \n"
          ]
        }
      ]
    },
    {
      "cell_type": "markdown",
      "metadata": {
        "id": "XG_HJ-UQomMo"
      },
      "source": [
        "Testing the output"
      ]
    },
    {
      "cell_type": "code",
      "metadata": {
        "id": "ckG35Yc5n_Ce",
        "outputId": "8809b5df-aaac-40a3-f6a2-21a6547f9da4",
        "colab": {
          "base_uri": "https://localhost:8080/"
        }
      },
      "source": [
        "X1 = torch.Tensor([[0,0], [0,1], [1,0], [1,1]])\n",
        "pred = model(X1)\n",
        "pred"
      ],
      "execution_count": 17,
      "outputs": [
        {
          "output_type": "stream",
          "name": "stderr",
          "text": [
            "/usr/local/lib/python3.7/dist-packages/torch/nn/functional.py:1794: UserWarning: nn.functional.tanh is deprecated. Use torch.tanh instead.\n",
            "  warnings.warn(\"nn.functional.tanh is deprecated. Use torch.tanh instead.\")\n"
          ]
        },
        {
          "output_type": "execute_result",
          "data": {
            "text/plain": [
              "tensor([[0.0524],\n",
              "        [0.6487],\n",
              "        [0.6485],\n",
              "        [0.0741]], grad_fn=<AddmmBackward>)"
            ]
          },
          "metadata": {},
          "execution_count": 17
        }
      ]
    },
    {
      "cell_type": "markdown",
      "metadata": {
        "id": "j_LZrEq8n0rz"
      },
      "source": [
        "**References:** http://www.sharetechnote.com/html/Python_PyTorch_nn_Linear_01.html"
      ]
    }
  ]
}